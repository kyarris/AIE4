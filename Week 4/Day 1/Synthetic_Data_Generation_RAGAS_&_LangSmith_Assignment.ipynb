{
  "cells": [
    {
      "cell_type": "markdown",
      "metadata": {
        "id": "sCk2Rx4cjlYF"
      },
      "source": [
        "# Synthetic Data Generation Using RAGAS - RAG Evaluation with LangSmith\n",
        "\n",
        "In the following notebook we'll explore a use-case for RAGAS' synthetic testset generation workflow, inspired by the [Evol Instruct](https://arxiv.org/abs/2304.12244) paper.\n",
        "\n",
        "\n",
        "\n",
        "- 🤝 BREAKOUT ROOM #1\n",
        "  1. Use RAGAS to Generate Synthetic Data\n",
        "\n",
        "- 🤝 BREAKOUT ROOM #2\n",
        "  1. Load them into a LangSmith Dataset\n",
        "  2. Evaluate our RAG chain against the synthetic test data\n",
        "  3. Make changes to our pipeline\n",
        "  4. Evaluate the modified pipeline\n",
        "\n",
        "SDG is a critical piece of the puzzle, especially for early iteration! Without it, it would not be nearly as easy to get high quality early signal for our application's performance.\n",
        "\n",
        "Let's dive in!"
      ]
    },
    {
      "cell_type": "markdown",
      "metadata": {
        "id": "5bG2ta-B478G"
      },
      "source": [
        "# 🤝 BREAKOUT ROOM #1"
      ]
    },
    {
      "cell_type": "markdown",
      "metadata": {
        "id": "7VUI7vF_kbv9"
      },
      "source": [
        "## Task 1: Dependencies and API Keys\n",
        "\n",
        "We'll need to install a number of API keys and dependencies, since we'll be leveraging a number of great technologies for this pipeline!\n",
        "\n",
        "1. OpenAI's endpoints to handle the Synthetic Data Generation\n",
        "2. OpenAI's Endpoints for our RAG pipeline and LangSmith evaluation\n",
        "3. QDrant as our vectorstore\n",
        "4. LangSmith for our evaluation coordinator!\n",
        "\n",
        "Let's install and provide all the required information below!"
      ]
    },
    {
      "cell_type": "code",
      "execution_count": 1,
      "metadata": {
        "colab": {
          "base_uri": "https://localhost:8080/"
        },
        "id": "OEXfAKnNTAfl",
        "outputId": "bba74a6c-e4fb-4c63-c412-fb2f798cbc6c"
      },
      "outputs": [],
      "source": [
        "!pip install -qU langsmith langchain-core langchain-community langchain-openai langchain-qdrant"
      ]
    },
    {
      "cell_type": "code",
      "execution_count": 2,
      "metadata": {
        "colab": {
          "base_uri": "https://localhost:8080/"
        },
        "id": "rOe3py1ZVIHS",
        "outputId": "19f1841a-8c83-45d9-8ba8-61184507cb61"
      },
      "outputs": [],
      "source": [
        "!pip install -qU pymupdf ragas"
      ]
    },
    {
      "cell_type": "markdown",
      "metadata": {
        "id": "6vSRr2MXk0P_"
      },
      "source": [
        "We'll need to provide our LangSmith API key, and set tracing to \"true\"."
      ]
    },
    {
      "cell_type": "code",
      "execution_count": 4,
      "metadata": {
        "colab": {
          "base_uri": "https://localhost:8080/"
        },
        "id": "BEBDoTM4UPG7",
        "outputId": "6942a051-a15e-48f4-ddef-6d047fb352fe"
      },
      "outputs": [],
      "source": [
        "import os\n",
        "import getpass\n",
        "\n",
        "os.environ[\"LANGCHAIN_TRACING_V2\"] = \"true\"\n",
        "os.environ[\"LANGCHAIN_API_KEY\"] = getpass.getpass(\"LangChain API Key:\")"
      ]
    },
    {
      "cell_type": "markdown",
      "metadata": {
        "id": "mYr-ZmMOk6ZP"
      },
      "source": [
        "We'll also want to set a project name to make things easier for ourselves."
      ]
    },
    {
      "cell_type": "code",
      "execution_count": 5,
      "metadata": {
        "id": "7hZx_pKnZYt7"
      },
      "outputs": [],
      "source": [
        "from uuid import uuid4\n",
        "\n",
        "os.environ[\"LANGCHAIN_PROJECT\"] = f\"AIM - SDG - {uuid4().hex[0:8]}\""
      ]
    },
    {
      "cell_type": "markdown",
      "metadata": {
        "id": "9ixdGJFelARW"
      },
      "source": [
        "OpenAI's API Key!"
      ]
    },
    {
      "cell_type": "code",
      "execution_count": 6,
      "metadata": {
        "colab": {
          "base_uri": "https://localhost:8080/"
        },
        "id": "LoleVkxZUoo1",
        "outputId": "7bd79536-ebae-4ca0-9209-5762a55cfec7"
      },
      "outputs": [],
      "source": [
        "os.environ[\"OPENAI_API_KEY\"] = getpass.getpass(\"OpenAI API Key:\")"
      ]
    },
    {
      "cell_type": "markdown",
      "metadata": {
        "id": "9XOut20Olcdq"
      },
      "source": [
        "## Task 2: Loading Source Documents\n",
        "\n",
        "In order to create a synthetic dataset, we must first load our source documents!"
      ]
    },
    {
      "cell_type": "code",
      "execution_count": 7,
      "metadata": {
        "id": "xn5E3vJ6VGYX"
      },
      "outputs": [],
      "source": [
        "from langchain_community.document_loaders import PyMuPDFLoader\n",
        "\n",
        "documents = PyMuPDFLoader(file_path=\"https://s2.q4cdn.com/470004039/files/doc_earnings/2024/q3/filing/_10-Q-Q3-2024-As-Filed.pdf\").load()"
      ]
    },
    {
      "cell_type": "markdown",
      "metadata": {
        "id": "2WM3b1Nelmx2"
      },
      "source": [
        "## Task 3: Generate Synthetic Data\n",
        "\n",
        "Let's first take a peek under the RAGAS hood to see what's happening when we generate a single example.\n",
        "\n",
        "For simplicities sake - we'll look at a flow that results in a reasoning question."
      ]
    },
    {
      "cell_type": "markdown",
      "metadata": {
        "id": "Tqr_gz6NCSdN"
      },
      "source": [
        "### Two LLMs To Rule Them All\n",
        "\n",
        "- `generator_llm` - will generate our seed questions and evolutions\n",
        "- `critic_llm` - will act as a critic to verify if the evolutions are as we expect them to be"
      ]
    },
    {
      "cell_type": "markdown",
      "metadata": {
        "id": "N4UnMhd06Dpz"
      },
      "source": [
        "### Entering the Generation\n",
        "\n",
        "We'll enter the generation process with our `generate_with_langchain_docs()` method - let's look at how that is implemented:\n",
        "\n",
        "```python\n",
        "def generate_with_langchain_docs(\n",
        "    self,\n",
        "    documents: t.Sequence[LCDocument],\n",
        "    test_size: int,\n",
        "    distributions: t.Optional[Distributions] = None,\n",
        "    with_debugging_logs=False,\n",
        "    is_async: bool = True,\n",
        "    raise_exceptions: bool = True,\n",
        "    run_config: t.Optional[RunConfig] = None,\n",
        "):\n",
        "    distributions = distributions or {}\n",
        "    # chunk documents and add to docstore\n",
        "    self.docstore.add_documents(\n",
        "        [Document.from_langchain_document(doc) for doc in documents]\n",
        "    )\n",
        "\n",
        "    return self.generate(\n",
        "        test_size=test_size,\n",
        "        distributions=distributions,\n",
        "        with_debugging_logs=with_debugging_logs,\n",
        "        is_async=is_async,\n",
        "        raise_exceptions=raise_exceptions,\n",
        "        run_config=run_config,\n",
        "    )\n",
        "```\n",
        "\n",
        "As you can see - before we do anything, our `doctore` is created using the provided `documents`.\n",
        "\n",
        "Then, we move on to `generate()`, let's see how that works next!"
      ]
    },
    {
      "cell_type": "markdown",
      "metadata": {
        "id": "oTi8XL2F7CRl"
      },
      "source": [
        "### Generating Examples!\n",
        "\n",
        "> NOTE: You can see the full implementation [here](https://github.com/explodinggradients/ragas/blob/fe379a1c97d18ce2c203d80432a3da6622337968/src/ragas/testset/generator.py#L234), we'll work through the pseudo-code.\n",
        "\n",
        "```python\n",
        "function generate(test_size, distributions, other_params...):\n",
        "    # Validate and set default values\n",
        "    if distributions not provided:\n",
        "        distributions = DEFAULT_DISTRIBUTION\n",
        "    \n",
        "    validate_distributions_sum_to_one(distributions)\n",
        "    \n",
        "    set_up_run_config()\n",
        "    initialize_docstore()\n",
        "    \n",
        "    # Initialize evolutions\n",
        "    for each evolution in distributions:\n",
        "        initialize_evolution(evolution)\n",
        "    \n",
        "    set_up_debugging_logs_if_needed()\n",
        "    \n",
        "    # Set up execution environment\n",
        "    executor = create_executor()\n",
        "    \n",
        "    # Get initial nodes\n",
        "    current_nodes = get_random_nodes_from_docstore(test_size)\n",
        "    \n",
        "    total_evolutions = 0\n",
        "    \n",
        "    # Distribute evolutions based on probabilities\n",
        "    for each evolution, probability in distributions:\n",
        "        num_samples = round(probability * test_size)\n",
        "        for i in random_sample(range(test_size), num_samples):\n",
        "            submit_task_to_executor(evolution.evolve, current_nodes[i])\n",
        "            total_evolutions += 1\n",
        "    \n",
        "    # Add filler evolutions if needed\n",
        "    while total_evolutions < test_size:\n",
        "        random_evolution = choose_random_evolution(distributions)\n",
        "        submit_task_to_executor(random_evolution.evolve, current_nodes[total_evolutions])\n",
        "        total_evolutions += 1\n",
        "    \n",
        "    # Get results\n",
        "    try:\n",
        "        test_data_rows = executor.get_results()\n",
        "        if test_data_rows is empty:\n",
        "            raise Exception(\"No results generated\")\n",
        "\n",
        "    return test_data_rows\n",
        "```\n",
        "\n",
        "In essence, we:\n",
        "\n",
        "1. Do some validation of inputs, and initialize our evolutions.\n",
        "2. Get some random nodes from our docstore.\n",
        "3. Evolve the current nodes based on the desired distribution.\n",
        "4. Fill with sampled evolutions if we're not at the desired number of rows."
      ]
    },
    {
      "cell_type": "markdown",
      "metadata": {
        "id": "SQ5AoZCo8UXC"
      },
      "source": [
        "### Peeking into the Complex Evolution Implementation for Reasoning Questions.\n",
        "\n",
        "> NOTE: You can see the full implementation [here](https://github.com/explodinggradients/ragas/blob/fe379a1c97d18ce2c203d80432a3da6622337968/src/ragas/testset/evolutions.py#L375). We'll work through the high-level implementation below.\n",
        "\n",
        "Let's look into how the \"Complex Evolution\" is implemented:\n",
        "\n",
        "1. First, we use [`_aevolve()`](https://github.com/explodinggradients/ragas/blob/fe379a1c97d18ce2c203d80432a3da6622337968/src/ragas/testset/evolutions.py#L289) to generate a \"Seed Question\".\n",
        "\n",
        "```python\n",
        "simple_question, current_nodes, _ = await self.se._aevolve(\n",
        "            current_tries, current_nodes\n",
        "        )\n",
        "```\n",
        "\n",
        "2. We use our provided `question_prompt` to generate a reasoning question.\n",
        "\n",
        "```python\n",
        "result = await self.generator_llm.generate(\n",
        "            prompt=question_prompt.format(\n",
        "                question=simple_question, context=merged_node.page_content\n",
        "            )\n",
        "        )\n",
        "```\n",
        "\n",
        "> PROMPT (implementation [here](https://github.com/explodinggradients/ragas/blob/fe379a1c97d18ce2c203d80432a3da6622337968/src/ragas/testset/prompts.py#L15)):\n",
        "\n",
        "```python\n",
        "instruction=\"\"\"Complicate the given question by rewriting question into a multi-hop reasoning question based on the provided context.\n",
        "    Answering the question should require the reader to make multiple logical connections or inferences using the information available in given context.\n",
        "    Rules to follow when rewriting question:\n",
        "    1. Ensure that the rewritten question can be answered entirely from the information present in the contexts.\n",
        "    2. Do not frame questions that contains more than 15 words. Use abbreviation wherever possible.\n",
        "    3. Make sure the question is clear and unambiguous.\n",
        "    4. phrases like 'based on the provided context','according to the context',etc are not allowed to appear in the question.\"\"\"\n",
        "```\n",
        "\n",
        "3. We verify the question is valid.\n",
        "\n",
        "```python\n",
        "is_valid_question, feedback = await self.question_filter.filter(\n",
        "            reasoning_question\n",
        "        )\n",
        "```\n",
        "\n",
        "> PROMPT (implementation [here](https://github.com/explodinggradients/ragas/blob/fe379a1c97d18ce2c203d80432a3da6622337968/src/ragas/testset/prompts.py#L390))\n",
        "\n",
        "```python\n",
        "instruction=\"\"\"\n",
        "Asses the given question for clarity and answerability given enough domain knowledge, consider the following criteria:\n",
        "1.Independence: Can the question be understood and answered without needing additional context or access to external references not provided within the question itself? Questions should be self-contained, meaning they do not rely on specific documents, tables, or prior knowledge not shared within the question.\n",
        "2.Clear Intent: Is it clear what type of answer or information the question seeks? The question should convey its purpose without ambiguity, allowing for a direct and relevant response.\n",
        "Based on these criteria, assign a verdict of \"1\" if a question is specific, independent, and has a clear intent, making it understandable and answerable based on the details provided. Assign \"0\" if it fails to meet one or more of these criteria due to vagueness, reliance on external references, or ambiguity in intent.\n",
        "Provide feedback and a verdict in JSON format, including suggestions for improvement if the question is deemed unclear. Highlight aspects of the question that contribute to its clarity or lack thereof, and offer advice on how it could be reframed or detailed for better understanding and answerability.\n",
        "\"\"\"\n",
        "```\n",
        "\n",
        "4. We [handle the question](https://github.com/explodinggradients/ragas/blob/fe379a1c97d18ce2c203d80432a3da6622337968/src/ragas/testset/evolutions.py#L401) if it's not valid, otherwise we compress the question:\n",
        "\n",
        "```python\n",
        "compressed_question = await self._transform_question(\n",
        "            prompt=self.compress_question_prompt, question=reasoning_question\n",
        "        )\n",
        "```\n",
        "\n",
        "> PROMPT (implementation [here](https://github.com/explodinggradients/ragas/blob/fe379a1c97d18ce2c203d80432a3da6622337968/src/ragas/testset/prompts.py#L100))\n",
        "\n",
        "```python\n",
        "instruction=\"\"\"Rewrite the following question to make it more indirect and shorter while retaining the essence of the original question.\n",
        "    The goal is to create a question that conveys the same meaning but in a less direct manner. The rewritten question should shorter so use abbreviation wherever possible.\"\"\"\n",
        "```\n",
        "\n",
        "5. Filter the newly compressed question based on a comparison to the original simple question.\n",
        "\n",
        "```python\n",
        "if await self.evolution_filter.filter(simple_question, compressed_question):\n",
        "            # retry\n",
        "            current_nodes = self.se._get_new_random_node()\n",
        "            logger.debug(\n",
        "                \"evolution_filter failed, retrying with %s\", len(current_nodes.nodes)\n",
        "            )\n",
        "            return await self.aretry_evolve(current_tries, current_nodes)\n",
        "```\n",
        "\n",
        "`filter` is implemented as follows, with our Critic LLM:\n",
        "\n",
        "```python\n",
        "    async def filter(self, simple_question: str, compressed_question: str) -> bool:\n",
        "        prompt = self.evolution_elimination_prompt.format(\n",
        "            question1=simple_question, question2=compressed_question\n",
        "        )\n",
        "        results = await self.llm.generate(prompt=prompt)\n",
        "        results = results.generations[0][0].text.strip()\n",
        "        results = await evolution_elimination_parser.aparse(results, prompt, self.llm)\n",
        "        results = results.dict() if results is not None else {}\n",
        "        logger.debug(\"evolution filter: %s\", results)\n",
        "        return results.get(\"verdict\") == 1\n",
        "```\n",
        "\n",
        "Let's zoom back out now!\n",
        "\n"
      ]
    },
    {
      "cell_type": "markdown",
      "metadata": {
        "id": "qe_5EcHZBG-A"
      },
      "source": [
        "### Generating Answers:\n",
        "\n",
        "For answer generation, we simply ask the LLM to answer the question we evolved using the context associated with our evolution - that's it!\n",
        "\n",
        "We will this:\n",
        "\n",
        "```python\n",
        "class AnswerFormat(BaseModel):\n",
        "    answer: str\n",
        "    verdict: int\n",
        "```\n",
        "\n",
        "Using [this prompt](https://github.com/explodinggradients/ragas/blob/fe379a1c97d18ce2c203d80432a3da6622337968/src/ragas/testset/prompts.py#L143):\n",
        "\n",
        "```python\n",
        "instruction=\"\"\"Answer the question using the information from the given context. Output verdict as '1' if answer is present '-1' if answer is not present in the context.\"\"\"\n",
        "```\n",
        "\n",
        "This uses our Generator LLM."
      ]
    },
    {
      "cell_type": "markdown",
      "metadata": {
        "id": "m6W8Q6yr5maq"
      },
      "source": [
        "Actually creating our Synthetic Dataset is as simple as running the following cell!"
      ]
    },
    {
      "cell_type": "code",
      "execution_count": 8,
      "metadata": {
        "id": "YxQrHsmvVU-9"
      },
      "outputs": [
        {
          "name": "stderr",
          "output_type": "stream",
          "text": [
            "/Users/keaneyarris/anaconda3/envs/AI4/lib/python3.12/site-packages/tqdm/auto.py:21: TqdmWarning: IProgress not found. Please update jupyter and ipywidgets. See https://ipywidgets.readthedocs.io/en/stable/user_install.html\n",
            "  from .autonotebook import tqdm as notebook_tqdm\n"
          ]
        }
      ],
      "source": [
        "from ragas.testset.generator import TestsetGenerator\n",
        "from ragas.testset.evolutions import simple, reasoning, multi_context\n",
        "from langchain_openai import ChatOpenAI, OpenAIEmbeddings\n",
        "\n",
        "generator_llm = ChatOpenAI(model=\"gpt-3.5-turbo\")\n",
        "critic_llm = ChatOpenAI(model=\"gpt-4o-mini\")\n",
        "embeddings = OpenAIEmbeddings()\n",
        "\n",
        "generator = TestsetGenerator.from_langchain(\n",
        "    generator_llm,\n",
        "    critic_llm,\n",
        "    embeddings\n",
        ")\n",
        "\n",
        "distributions = {\n",
        "    simple: 0.5,\n",
        "    multi_context: 0.4,\n",
        "    reasoning: 0.1\n",
        "}"
      ]
    },
    {
      "cell_type": "markdown",
      "metadata": {
        "id": "fyjm9-MU4bwj"
      },
      "source": [
        "#### ❓ Question #1:\n",
        "\n",
        "What do the distributions do *specifically*?\n",
        "\n",
        "> NOTE: More information is available [here](https://docs.ragas.io/en/latest/concepts/testset_generation.html#in-depth-evolution) on the evolution distributions."
      ]
    },
    {
      "cell_type": "markdown",
      "metadata": {
        "id": "QQC-gx9anDrV"
      },
      "source": [
        "Let's generate!\n",
        "\n",
        "> NOTE: This cell will take some time, and also make a lot of calls to OpenAI's endpoints! You may run into rate-limits during this cell!"
      ]
    },
    {
      "cell_type": "code",
      "execution_count": 10,
      "metadata": {
        "colab": {
          "base_uri": "https://localhost:8080/",
          "height": 1000,
          "referenced_widgets": [
            "07ab3dc0790241bbb85a7f488a42ef8c",
            "7710c7377cbc4c30b55b28b4bc99e88f",
            "41bdd49fab5f4826959d0d50663ff539",
            "60168d85131d4afc99d55d61ab954ee6",
            "9edf898aeeab40dda9b9475395776521",
            "5c2fda99d4204d85b1bf7ad354fd58d4",
            "93cd4d35c5fd41f5904ca1d52d1f52a8",
            "6eb8b2e3262c45248708a2082c366f0a",
            "095f680d37a3430fb82d223615662db5",
            "3a8537e37fc14fd9b16ca0ceee4fede6",
            "1160a44dc18e47b0890f70c40eaa7eb0",
            "33f063017b7c4c7fa8cbafc89674350b",
            "6864c81e2bcf459bbaf5acbb36bdfcbe",
            "59d6e269eadf429a924f6f79bc8ba4ba",
            "ca791fc471e34b9da2f9070fc1053c0f",
            "8baf0ed3d0f743f294e07f2b5407e820",
            "10df31709059484c99f102453d780473",
            "2508d229935744cbb5fc340222e2d660",
            "890e0dd7fa524ceca1e805cb6253ee71",
            "61b52ff459214129b8f7e6d67b192b78",
            "23863bc37a8645029934b8c106622c51",
            "5ab5f08afa5841709aedb2f78a52a11c"
          ]
        },
        "id": "ak_MfUrSWHpZ",
        "outputId": "4306cc9a-e240-4674-a33f-0331f94f4916"
      },
      "outputs": [
        {
          "name": "stderr",
          "output_type": "stream",
          "text": [
            "Filename and doc_id are the same for all nodes.                 \n",
            "Generating:   0%|          | 0/5 [00:00<?, ?it/s][ragas.testset.filters.DEBUG] context scoring: {'clarity': 2, 'depth': 1, 'structure': 2, 'relevance': 3, 'score': 2.0}\n",
            "[ragas.testset.evolutions.DEBUG] keyphrases in merged node: ['Securities Exchange Act of 1934', 'Registrant', 'Luca Maestri', 'Chief Financial Officer', 'Form 10-Q']\n",
            "[ragas.testset.filters.DEBUG] context scoring: {'clarity': 2, 'depth': 1, 'structure': 2, 'relevance': 3, 'score': 2.0}\n",
            "[ragas.testset.evolutions.DEBUG] keyphrases in merged node: ['Securities Exchange Act of 1934', 'Registrant', 'Luca Maestri', 'Chief Financial Officer', 'Form 10-Q']\n",
            "[ragas.testset.filters.DEBUG] context scoring: {'clarity': 3, 'depth': 3, 'structure': 3, 'relevance': 3, 'score': 3.0}\n",
            "[ragas.testset.evolutions.DEBUG] keyphrases in merged node: ['Apple Inc.', \"Consolidated statements of shareholders' equity\", 'Common stock and additional paid-in capital', 'Retained earnings/accumulated deficit', 'Other comprehensive income/loss']\n",
            "[ragas.testset.filters.DEBUG] context scoring: {'clarity': 3, 'depth': 3, 'structure': 3, 'relevance': 3, 'score': 3.0}\n",
            "[ragas.testset.evolutions.DEBUG] keyphrases in merged node: ['Selling, General and Administrative', 'Provision for Income Taxes', 'Liquidity and Capital Resources', 'Manufacturing Purchase Obligations', 'Capital Return Program']\n",
            "[ragas.testset.filters.DEBUG] context scoring: {'clarity': 3, 'depth': 3, 'structure': 3, 'relevance': 3, 'score': 3.0}\n",
            "[ragas.testset.evolutions.DEBUG] keyphrases in merged node: ['Apple Inc.', \"Consolidated statements of shareholders' equity\", 'Common stock and additional paid-in capital', 'Retained earnings/accumulated deficit', 'Other comprehensive income/loss']\n",
            "[ragas.testset.evolutions.INFO] seed question generated: What is the significance of the Form 10-Q in the Securities Exchange Act of 1934?\n",
            "[ragas.testset.evolutions.INFO] seed question generated: Who is the Senior Vice President and Chief Financial Officer of Apple Inc. as of August 1, 2024?\n",
            "[ragas.testset.evolutions.INFO] seed question generated: What factors contributed to the changes in Apple Inc.'s retained earnings and accumulated deficit from the beginning to the ending balances in the specified period?\n",
            "[ragas.testset.evolutions.INFO] seed question generated: What were the manufacturing purchase obligations of the Company as of June 29, 2024, and how much of it was payable within 12 months?\n",
            "[ragas.testset.evolutions.INFO] seed question generated: What factors contributed to the changes in Apple Inc.'s retained earnings and accumulated deficit from the beginning to the ending balances in the specified period?\n",
            "[ragas.testset.filters.DEBUG] filtered question: {'feedback': 'The question asks about the significance of the Form 10-Q in the context of the Securities Exchange Act of 1934. It is specific and clear in its intent, focusing on a particular form and its relevance to a specific piece of legislation. The question can be understood and answered without needing additional context or external references, making it self-contained. Therefore, it meets the criteria for clarity and answerability.', 'verdict': 1}\n",
            "[ragas.testset.evolutions.DEBUG] [MultiContextEvolution] simple question generated: What is the significance of the Form 10-Q in the Securities Exchange Act of 1934?\n",
            "[ragas.testset.filters.DEBUG] filtered question: {'feedback': 'The question is specific and seeks a clear piece of information regarding the identity of the Senior Vice President and Chief Financial Officer of Apple Inc. as of a specific date (August 1, 2024). It is independent and does not rely on external references or additional context, making it understandable and answerable based on the details provided. However, since the date specified is in the future, it may not be answerable at this time. To improve clarity and answerability, the question could specify a past date or ask for the current CFO instead.', 'verdict': 1}\n",
            "[ragas.testset.filters.DEBUG] filtered question: {'feedback': \"The question asks about the factors that influenced the changes in Apple Inc.'s retained earnings and accumulated deficit over a specified period. While it is clear in its intent to understand the contributing factors, it lacks specificity regarding the 'specified period' and does not provide any context or data that would allow for a direct answer. To improve clarity and answerability, the question could specify the exact time frame being referred to (e.g., fiscal year 2022) and could also mention any relevant financial data or events that might have impacted these figures. This would help in providing a more focused and relevant response.\", 'verdict': 0}\n",
            "[ragas.testset.evolutions.INFO] rewritten question: What factors contributed to the changes in Apple Inc.'s retained earnings and accumulated deficit from the beginning to the ending balances in the specified period?\n",
            "[ragas.testset.filters.DEBUG] filtered question: {'feedback': 'The question asks about the manufacturing purchase obligations of a Company as of a specific date (June 29, 2024) and inquires about the amount payable within 12 months. While it specifies the type of information sought (manufacturing purchase obligations) and a clear timeframe, it assumes access to specific financial data or reports that are not provided within the question itself. This reliance on external references makes the question less independent and potentially unclear for those without access to the relevant documents. To improve clarity and answerability, the question could specify the Company in question or provide context about the nature of the obligations, or it could be rephrased to ask for general information about manufacturing purchase obligations without referencing a specific date or amount.', 'verdict': 0}\n",
            "[ragas.testset.evolutions.INFO] rewritten question: What were the manufacturing purchase obligations of the Company as of June 29, 2024, and how much of it was payable within 12 months?\n",
            "[ragas.testset.evolutions.DEBUG] [MultiContextEvolution] multicontext question generated: \"What role does Form 10-Q play in the regulatory framework established by the Securities Exchange Act of 1934?\"\n",
            "[ragas.testset.filters.DEBUG] filtered question: {'feedback': \"The question asks about the factors that influenced the changes in Apple Inc.'s retained earnings and accumulated deficit over a specified period. While it is clear in its intent to understand the contributing factors, it lacks specificity regarding the 'specified period' and does not provide any context or details about the financial data being referenced. This makes it less independent and potentially unclear for someone who does not have access to the relevant financial statements or reports. To improve clarity and answerability, the question could specify the exact time frame (e.g., fiscal year 2022) and mention any particular events or financial activities (e.g., stock buybacks, dividends) that might be relevant to the changes in retained earnings and accumulated deficit.\", 'verdict': 0}\n",
            "[ragas.testset.evolutions.INFO] rewritten question: What factors contributed to the changes in Apple Inc.'s retained earnings and accumulated deficit from the beginning to the ending balances in the specified period?\n",
            "[ragas.testset.evolutions.DEBUG] answer generated: {'answer': 'Luca Maestri is the Senior Vice President and Chief Financial Officer of Apple Inc. as of August 1, 2024.', 'verdict': 1}\n",
            "Generating:  20%|██        | 1/5 [00:04<00:17,  4.45s/it][ragas.testset.filters.DEBUG] filtered question: {'feedback': 'The question asks about the role of Form 10-Q within the regulatory framework of the Securities Exchange Act of 1934. It is specific and clear in its intent, focusing on a particular form and its regulatory significance. The question can be understood and answered without needing additional context or external references, as it directly relates to established financial regulations. Therefore, it meets the criteria for clarity and answerability.', 'verdict': 1}\n",
            "[ragas.testset.filters.DEBUG] filtered question: {'feedback': \"The question asks about the factors that influenced the changes in Apple Inc.'s retained earnings and accumulated deficit over a specified period. While it is clear in its intent to understand the contributing factors, it refers to 'the specified period' without providing the actual time frame or context. This lack of specificity makes it difficult to answer without additional information. To improve clarity and answerability, the question should specify the exact period in question (e.g., fiscal year 2022) and could also clarify whether it seeks qualitative factors (like business decisions) or quantitative data (like financial metrics).\", 'verdict': 0}\n",
            "[ragas.testset.evolutions.INFO] retrying evolution: 1 times\n",
            "[ragas.testset.filters.DEBUG] filtered question: {'feedback': 'The question asks about the manufacturing purchase obligations of a Company as of a specific date (June 29, 2024) and inquires about the amount payable within 12 months. While it specifies the type of information sought (manufacturing purchase obligations) and a clear timeframe, it assumes access to specific financial data or reports that are not provided within the question itself. This reliance on external references makes the question less independent and potentially unclear for those without access to the relevant documents. To improve clarity and answerability, the question could specify the Company in question or provide context about the nature of these obligations, or it could be rephrased to ask for general information about manufacturing purchase obligations without referencing a specific date or amount.', 'verdict': 0}\n",
            "[ragas.testset.evolutions.INFO] retrying evolution: 1 times\n",
            "[ragas.testset.evolutions.DEBUG] [MultiContextEvolution] multicontext question compressed: \"What is the significance of Form 10-Q in the Securities Exchange Act of 1934?\"\n",
            "[ragas.testset.filters.DEBUG] context scoring: {'clarity': 3, 'depth': 3, 'structure': 3, 'relevance': 3, 'score': 3.0}\n",
            "[ragas.testset.evolutions.DEBUG] keyphrases in merged node: ['Apple Inc.', 'Condensed Consolidated Financial Statements', 'GAAP', 'Net sales', 'Deferred revenue']\n",
            "[ragas.testset.filters.DEBUG] context scoring: {'clarity': 2, 'depth': 1, 'structure': 2, 'relevance': 3, 'score': 2.0}\n",
            "[ragas.testset.evolutions.DEBUG] keyphrases in merged node: ['Securities Exchange Act of 1934', 'Registrant', 'Luca Maestri', 'Chief Financial Officer', 'Form 10-Q']\n",
            "[ragas.testset.filters.DEBUG] evolution filter: {'reason': 'Both questions are identical in content and inquiry, asking about the significance of the Form 10-Q in the Securities Exchange Act of 1934, thus sharing the same constraints and requirements.', 'verdict': 1}\n",
            "[ragas.testset.evolutions.INFO] retrying evolution: 1 times\n",
            "[ragas.testset.evolutions.INFO] seed question generated: Who is the Senior Vice President and Chief Financial Officer of Apple Inc.?\n",
            "[ragas.testset.evolutions.INFO] seed question generated: \"How were net sales disaggregated by significant products and services for the three- and nine-month periods ended June 29, 2024 and July 1, 2023?\"\n",
            "[ragas.testset.filters.DEBUG] filtered question: {'feedback': \"The question asks about the factors that influenced the changes in Apple Inc.'s retained earnings and accumulated deficit over a specified period. While it is clear in its intent to understand the contributing factors, it refers to 'the specified period' without providing the actual time frame or context. This lack of specificity makes it difficult to answer without additional information. To improve clarity and answerability, the question should specify the exact period in question (e.g., fiscal year 2022) and could also clarify whether it seeks qualitative factors (like business decisions) or quantitative factors (like revenue changes).\", 'verdict': 0}\n",
            "[ragas.testset.evolutions.INFO] retrying evolution: 1 times\n",
            "[ragas.testset.filters.DEBUG] context scoring: {'clarity': 2, 'depth': 1, 'structure': 2, 'relevance': 3, 'score': 2.0}\n",
            "[ragas.testset.evolutions.DEBUG] keyphrases in merged node: ['Exhibits', 'Incorporated by Reference', 'Chief Executive Officer Certification', 'Chief Financial Officer Certification', 'XBRL Document Set']\n",
            "[ragas.testset.filters.DEBUG] context scoring: {'clarity': 3, 'depth': 3, 'structure': 3, 'relevance': 3, 'score': 3.0}\n",
            "[ragas.testset.evolutions.DEBUG] keyphrases in merged node: ['Earnings Per Share', 'Net income', 'Weighted-average shares', 'Diluted earnings per share', 'Financial Instruments']\n",
            "[ragas.testset.evolutions.INFO] seed question generated: What is the significance of items being \"Incorporated by Reference\" in the context of the provided information?\n",
            "[ragas.testset.filters.DEBUG] filtered question: {'feedback': 'The question is clear and specific, asking for the name of a particular individual holding a specific position (Senior Vice President and Chief Financial Officer) at a well-known company (Apple Inc.). It does not rely on external references or additional context, making it self-contained. The intent is straightforward, seeking a factual answer. Therefore, it meets the criteria for clarity and answerability.', 'verdict': 1}\n",
            "[ragas.testset.evolutions.DEBUG] [MultiContextEvolution] simple question generated: Who is the Senior Vice President and Chief Financial Officer of Apple Inc.?\n",
            "[ragas.testset.evolutions.INFO] seed question generated: \"How are weighted-average shares calculated for basic and diluted earnings per share in the given financial report?\"\n",
            "[ragas.testset.evolutions.DEBUG] [MultiContextEvolution] multicontext question generated: \"Who holds the position of Senior Vice President and Chief Financial Officer at Apple Inc. as of August 1, 2024?\"\n",
            "[ragas.testset.filters.DEBUG] filtered question: {'feedback': 'The question asks for the disaggregation of net sales by significant products and services for specific time periods (three- and nine-month periods ended June 29, 2024, and July 1, 2023). While it specifies the type of information sought (net sales disaggregation) and the relevant time frames, it assumes access to specific data or reports that are not provided within the question itself. This reliance on external data makes the question less clear and answerable for someone without that context. To improve clarity and answerability, the question could specify the source of the data or provide a brief description of the significant products and services in question, or it could be reframed to ask for general trends or insights regarding net sales disaggregation without requiring specific data.', 'verdict': 0}\n",
            "[ragas.testset.evolutions.INFO] rewritten question: \"How were net sales disaggregated by significant products and services for the three- and nine-month periods ended June 29, 2024 and July 1, 2023?\"\n",
            "[ragas.testset.filters.DEBUG] filtered question: {'feedback': \"The question asks about the significance of items being 'Incorporated by Reference' but refers to 'the provided information' without including or describing what that information is. This reliance on unspecified external context makes the question unclear and potentially unanswerable for those who do not have access to the referenced information. To improve clarity and answerability, the question should either include a brief description of the relevant information or be rephrased to focus on the general significance of 'Incorporated by Reference' without depending on specific external context.\", 'verdict': 0}\n",
            "[ragas.testset.evolutions.INFO] rewritten question: What is the significance of items being \"Incorporated by Reference\" in the context of the provided information?\n",
            "[ragas.testset.filters.DEBUG] filtered question: {'feedback': \"The question asks about the calculation of weighted-average shares for basic and diluted earnings per share, referencing 'the given financial report' without providing any specific details or context about the report itself. While the intent is clear in seeking information on the calculation method, the reliance on an unspecified financial report makes it less independent and potentially unclear for those who do not have access to that report. To improve clarity and answerability, the question could either include a brief description of the relevant sections of the financial report or ask for a general explanation of the calculation methods without referencing a specific document.\", 'verdict': 0}\n",
            "[ragas.testset.evolutions.INFO] rewritten question: \"How are weighted-average shares calculated for basic and diluted earnings per share in the given financial report?\"\n",
            "[ragas.testset.filters.DEBUG] filtered question: {'feedback': 'The question is specific and clear, asking for the name of the individual holding the position of Senior Vice President and Chief Financial Officer at Apple Inc. as of a specific date (August 1, 2024). It does not rely on external references or additional context, making it self-contained. However, the date mentioned is in the future, which may affect the ability to provide an answer at the current time. To improve clarity, the question could specify whether it is seeking a prediction or if it is based on current knowledge up to October 2023.', 'verdict': 1}\n",
            "[ragas.testset.filters.DEBUG] filtered question: {'feedback': \"The question asks about the significance of items being 'Incorporated by Reference' but refers to 'the provided information' without including or describing what that information is. This reliance on unspecified external context makes the question unclear and difficult to answer for someone who does not have access to that information. To improve clarity and answerability, the question should either include a brief description of the relevant information or be rephrased to focus on the general significance of 'Incorporated by Reference' without depending on specific external context.\", 'verdict': 0}\n",
            "[ragas.testset.evolutions.INFO] retrying evolution: 2 times\n",
            "[ragas.testset.evolutions.DEBUG] [MultiContextEvolution] multicontext question compressed: \"Who is the current CFO at Apple Inc. as of August 1, 2024?\"\n",
            "[ragas.testset.filters.DEBUG] filtered question: {'feedback': \"The question asks about the calculation of weighted-average shares for basic and diluted earnings per share, referencing 'the given financial report' without providing any specific details or context about the report itself. While the intent is clear in seeking information on the calculation method, the reliance on an unspecified financial report makes it less independent and potentially unclear for those who do not have access to that report. To improve clarity and answerability, the question could either include a brief description of the relevant sections of the financial report or ask for a general explanation of the calculation methods without referencing a specific document.\", 'verdict': 0}\n",
            "[ragas.testset.evolutions.INFO] retrying evolution: 2 times\n",
            "[ragas.testset.filters.DEBUG] filtered question: {'feedback': 'The question asks for the disaggregation of net sales by significant products and services for specific time periods (three- and nine-month periods ended June 29, 2024, and July 1, 2023). While it specifies the type of information sought (net sales disaggregation) and the relevant time frames, it assumes access to specific data or reports that are not provided within the question itself. This reliance on external data makes the question less independent and potentially unclear for those who do not have access to the relevant financial reports. To improve clarity and answerability, the question could specify the context or source of the data being referenced or reframe the inquiry to focus on general trends or methods of disaggregation without requiring specific data.', 'verdict': 0}\n",
            "[ragas.testset.evolutions.INFO] retrying evolution: 2 times\n",
            "[ragas.testset.filters.DEBUG] context scoring: {'clarity': 2, 'depth': 1, 'structure': 2, 'relevance': 3, 'score': 2.0}\n",
            "[ragas.testset.evolutions.DEBUG] keyphrases in merged node: ['Securities Exchange Act of 1934', 'Registrant', 'Luca Maestri', 'Chief Financial Officer', 'Form 10-Q']\n",
            "[ragas.testset.filters.DEBUG] context scoring: {'clarity': 3, 'depth': 3, 'structure': 3, 'relevance': 3, 'score': 3.0}\n",
            "[ragas.testset.evolutions.DEBUG] keyphrases in merged node: ['European Commission State Aid Decision', 'General Court of the Court of Justice of the European Union', 'Commercial Paper program', 'Share Repurchase Program', 'Apple Inc. Form 10-Q']\n",
            "[ragas.testset.filters.DEBUG] context scoring: {'clarity': 3, 'depth': 3, 'structure': 3, 'relevance': 3, 'score': 3.0}\n",
            "[ragas.testset.evolutions.DEBUG] keyphrases in merged node: ['Financial Statements', 'Net sales', 'Cost of sales', 'Operating income', 'Net income']\n",
            "[ragas.testset.evolutions.INFO] seed question generated: What is the significance of the Form 10-Q in the Securities Exchange Act of 1934?\n",
            "[ragas.testset.filters.DEBUG] evolution filter: {'reason': 'Both questions inquire about the identity of the Chief Financial Officer of Apple Inc., but the second question specifies a time frame, which adds a constraint that the first question does not have. This difference in requirements affects the depth and breadth of the inquiry.', 'verdict': 0}\n",
            "[ragas.testset.evolutions.INFO] seed question generated: What is the status of the European Commission State Aid Decision regarding Apple Inc. as outlined in the Form 10-Q for Q3 2024?\n",
            "[ragas.testset.evolutions.INFO] seed question generated: What information is included in Apple Inc.'s condensed consolidated statements of operations for the third quarter of 2024?\n",
            "[ragas.testset.filters.DEBUG] filtered question: {'feedback': 'The question asks about the significance of the Form 10-Q in the context of the Securities Exchange Act of 1934. It is specific and clear in its intent, focusing on a particular document (Form 10-Q) and its relevance to a specific piece of legislation (Securities Exchange Act of 1934). The question can be understood and answered without needing additional context or external references, making it self-contained. Therefore, it meets the criteria for clarity and answerability.', 'verdict': 1}\n",
            "[ragas.testset.evolutions.DEBUG] [MultiContextEvolution] simple question generated: What is the significance of the Form 10-Q in the Securities Exchange Act of 1934?\n",
            "[ragas.testset.evolutions.DEBUG] answer generated: {'answer': 'Luca Maestri is the Senior Vice President and Chief Financial Officer of Apple Inc. as of August 1, 2024.', 'verdict': 1}\n",
            "Generating:  40%|████      | 2/5 [00:13<00:20,  6.95s/it][ragas.testset.evolutions.DEBUG] [MultiContextEvolution] multicontext question generated: \"What role does Form 10-Q play in ensuring compliance with the Securities Exchange Act of 1934?\"\n",
            "[ragas.testset.filters.DEBUG] filtered question: {'feedback': \"The question asks for specific information regarding Apple Inc.'s condensed consolidated statements of operations for the third quarter of 2024. It is clear in its intent to seek details about a particular financial document and specifies the company and time frame. However, it assumes access to the actual statements without providing any context or details about what specific information is being sought (e.g., revenue, expenses, net income). To improve clarity and answerability, the question could specify which aspects of the statements are of interest, such as key financial metrics or comparisons to previous quarters.\", 'verdict': 0}\n",
            "[ragas.testset.evolutions.INFO] rewritten question: What information is included in Apple Inc.'s condensed consolidated statements of operations for the third quarter of 2024?\n",
            "[ragas.testset.filters.DEBUG] filtered question: {'feedback': 'The question inquires about the status of a specific European Commission State Aid Decision related to Apple Inc., referencing the Form 10-Q for Q3 2024. While it specifies the subject (European Commission State Aid Decision) and the entity involved (Apple Inc.), it assumes access to the Form 10-Q for Q3 2024 without providing any details or context about its contents. This reliance on an external document makes the question less clear and answerable for those who do not have access to that specific form. To improve clarity and answerability, the question could either summarize the relevant information from the Form 10-Q or ask about the implications of the State Aid Decision without referencing the specific document.', 'verdict': 0}\n",
            "[ragas.testset.evolutions.INFO] rewritten question: What is the status of the European Commission State Aid Decision regarding Apple Inc. as outlined in the Form 10-Q for Q3 2024?\n",
            "[ragas.testset.filters.DEBUG] filtered question: {'feedback': 'The question clearly asks about the role of Form 10-Q in relation to compliance with the Securities Exchange Act of 1934. It specifies the document (Form 10-Q) and the legal framework (Securities Exchange Act of 1934), making the intent clear and the question understandable. It does not rely on external references or additional context, as the terms used are generally known within the domain of securities regulation. Therefore, the question is specific, independent, and has a clear intent.', 'verdict': 1}\n",
            "[ragas.testset.filters.DEBUG] filtered question: {'feedback': 'The question inquires about the status of a specific European Commission State Aid Decision related to Apple Inc., referencing the Form 10-Q for Q3 2024. While it specifies the subject (European Commission State Aid Decision) and the entity involved (Apple Inc.), it assumes familiarity with the contents of the Form 10-Q and the specific decision, which may not be accessible to all audiences. To improve clarity and answerability, the question could provide a brief summary of the relevant details from the Form 10-Q or clarify what specific aspects of the decision are of interest (e.g., implications, outcomes, timeline).', 'verdict': 0}\n",
            "[ragas.testset.evolutions.INFO] retrying evolution: 3 times\n",
            "[ragas.testset.evolutions.DEBUG] [MultiContextEvolution] multicontext question compressed: \"What is the significance of Form 10-Q in complying with the Securities Exchange Act of 1934?\"\n",
            "[ragas.testset.filters.DEBUG] filtered question: {'feedback': \"The question asks for specific information regarding Apple Inc.'s condensed consolidated statements of operations for the third quarter of 2024. It is clear in its intent, specifying the company (Apple Inc.) and the particular financial document (condensed consolidated statements of operations) along with the time frame (third quarter of 2024). However, it assumes access to this specific financial document without providing any context or details about what information is typically included in such statements. To improve clarity and answerability, the question could specify the type of information sought (e.g., revenue, expenses, net income) or clarify whether it is looking for a summary or specific figures.\", 'verdict': 0}\n",
            "[ragas.testset.evolutions.INFO] retrying evolution: 3 times\n",
            "[ragas.testset.filters.DEBUG] context scoring: {'clarity': 3, 'depth': 3, 'structure': 3, 'relevance': 3, 'score': 3.0}\n",
            "[ragas.testset.evolutions.DEBUG] keyphrases in merged node: ['Net sales by category', 'iPhone', 'Mac', 'iPad', 'Wearables, Home and Accessories', 'Services']\n",
            "[ragas.testset.filters.DEBUG] context scoring: {'clarity': 3, 'depth': 3, 'structure': 3, 'relevance': 3, 'score': 3.0}\n",
            "[ragas.testset.evolutions.DEBUG] keyphrases in merged node: ['Apple Inc.', 'Condensed Consolidated Financial Statements', 'GAAP', 'Net sales', 'Deferred revenue']\n",
            "[ragas.testset.filters.DEBUG] evolution filter: {'reason': 'Both questions inquire about the significance of Form 10-Q in relation to the Securities Exchange Act of 1934, focusing on its importance in compliance and regulatory context, thus sharing the same depth and breadth of inquiry.', 'verdict': 1}\n",
            "[ragas.testset.evolutions.INFO] retrying evolution: 2 times\n",
            "[ragas.testset.evolutions.INFO] seed question generated: \"What were the changes in net sales by category for Apple during the three- and nine-month periods ended June 29, 2024 and July 1, 2023?\"\n",
            "[ragas.testset.filters.DEBUG] context scoring: {'clarity': 3, 'depth': 3, 'structure': 3, 'relevance': 3, 'score': 3.0}\n",
            "[ragas.testset.evolutions.DEBUG] keyphrases in merged node: ['Selling, General and Administrative', 'Provision for Income Taxes', 'Liquidity and Capital Resources', 'Manufacturing Purchase Obligations', 'Capital Return Program']\n",
            "[ragas.testset.evolutions.INFO] seed question generated: \"How were net sales disaggregated by significant products and services for the three- and nine-month periods ended June 29, 2024 and July 1, 2023?\"\n",
            "[ragas.testset.evolutions.INFO] seed question generated: \"How did the Selling, General and Administrative expenses change during the third quarter and first nine months of 2024 compared to the same periods in 2023?\"\n",
            "[ragas.testset.filters.DEBUG] filtered question: {'feedback': 'The question asks for specific changes in net sales by category for Apple over two defined time periods, which is clear in its intent and specifies the subject (Apple) and the time frames (three- and nine-month periods ended June 29, 2024, and July 1, 2023). However, it assumes access to specific sales data that is not provided within the question itself, making it less independent. To improve clarity and answerability, the question could specify the categories of net sales being referred to or indicate whether the data is expected to be sourced from a particular report or financial statement. This would help in understanding the context better and provide a more focused answer.', 'verdict': 0}\n",
            "[ragas.testset.evolutions.INFO] rewritten question: \"What were the changes in net sales by category for Apple during the three- and nine-month periods ended June 29, 2024 and July 1, 2023?\"\n",
            "[ragas.testset.filters.DEBUG] filtered question: {'feedback': 'The question asks about the disaggregation of net sales by significant products and services for specific time periods (three- and nine-month periods ended June 29, 2024, and July 1, 2023). While it specifies the type of information sought (net sales disaggregation) and the relevant time frames, it assumes access to specific data or reports that detail these sales figures. This reliance on external data makes the question less independent and potentially unclear for those who do not have access to the relevant financial documents. To improve clarity and answerability, the question could specify the context or source of the data being referenced or reframe it to ask for general trends or methods of disaggregation without relying on specific figures.', 'verdict': 0}\n",
            "[ragas.testset.evolutions.INFO] rewritten question: \"How were net sales disaggregated by significant products and services for the three- and nine-month periods ended June 29, 2024 and July 1, 2023?\"\n",
            "[ragas.testset.filters.DEBUG] filtered question: {'feedback': 'The question asks about the changes in Selling, General and Administrative (SG&A) expenses during specific time periods (the third quarter and first nine months) of 2024 compared to the same periods in 2023. It is clear in its intent to seek a comparison of financial data across two years, making it specific and understandable. However, it assumes access to financial data for both years without providing any context or source for this information. To improve clarity and answerability, the question could specify the company or context for which these expenses are being analyzed, or it could ask for general trends in SG&A expenses without relying on specific data.', 'verdict': 0}\n",
            "[ragas.testset.evolutions.INFO] rewritten question: \"How did the Selling, General and Administrative expenses change during the third quarter and first nine months of 2024 compared to the same periods in 2023?\"\n",
            "[ragas.testset.filters.DEBUG] filtered question: {'feedback': 'The question asks for specific changes in net sales by category for Apple over two defined time periods, which is clear in its intent and specifies the subject (Apple) and the time frames (three- and nine-month periods ended June 29, 2024, and July 1, 2023). However, it assumes access to specific sales data that is not provided within the question itself, making it less independent. To improve clarity and answerability, the question could specify the categories of net sales being referred to or indicate whether the data is expected to be sourced from a particular report or financial statement. This would help in understanding the context better and provide a more focused answer.', 'verdict': 0}\n",
            "[ragas.testset.evolutions.INFO] retrying evolution: 4 times\n",
            "[ragas.testset.filters.DEBUG] filtered question: {'feedback': 'The question asks about the changes in Selling, General and Administrative (SG&A) expenses during specific time periods (the third quarter and first nine months) of 2024 compared to the same periods in 2023. It is clear in its intent to seek a comparison of financial data across two years, making it specific and understandable. However, it assumes access to financial data for both years without providing any context or source for this information. To improve clarity and answerability, the question could specify the company or context for which these expenses are being analyzed, or it could be rephrased to ask for general trends in SG&A expenses without relying on specific data.', 'verdict': 0}\n",
            "[ragas.testset.evolutions.INFO] retrying evolution: 3 times\n",
            "[ragas.testset.filters.DEBUG] context scoring: {'clarity': 1, 'depth': 1, 'structure': 2, 'relevance': 2, 'score': 1.5}\n",
            "[ragas.testset.evolutions.DEBUG] keyphrases in merged node: ['Risk Factors', \"Company's business\", 'Results of operations', 'Financial condition', 'Stock price']\n",
            "[ragas.testset.filters.DEBUG] context scoring: {'clarity': 3, 'depth': 3, 'structure': 3, 'relevance': 3, 'score': 3.0}\n",
            "[ragas.testset.evolutions.DEBUG] keyphrases in merged node: ['Forward-looking statements', 'Financial condition', 'Results of operations', 'Product introductions', 'Macroeconomic conditions']\n",
            "[ragas.testset.filters.DEBUG] filtered question: {'feedback': 'The question asks about the disaggregation of net sales by significant products and services for specific time periods (three- and nine-month periods ended June 29, 2024, and July 1, 2023). While it specifies the type of information sought (net sales disaggregation) and the relevant time frames, it assumes access to specific data or reports that detail these sales figures. This reliance on external data makes the question less independent and potentially unclear for those who do not have access to the relevant financial documents. To improve clarity and answerability, the question could specify the context or source of the data being referenced or reframe it to ask for general trends or methods of disaggregation without relying on specific figures.', 'verdict': 0}\n",
            "[ragas.testset.evolutions.INFO] retrying evolution: 4 times\n",
            "[ragas.testset.evolutions.INFO] seed question generated: \"How can the materialization of risks affect the Company's stock price?\"\n",
            "[ragas.testset.evolutions.INFO] seed question generated: \"How do new product introductions impact Apple's net sales and operating expenses?\"\n",
            "[ragas.testset.filters.DEBUG] context scoring: {'clarity': 3, 'depth': 3, 'structure': 3, 'relevance': 3, 'score': 3.0}\n",
            "[ragas.testset.evolutions.DEBUG] keyphrases in merged node: ['Certification', 'Financial statements', 'Disclosure controls and procedures', 'Internal control over financial reporting', 'Chief Executive Officer']\n",
            "[ragas.testset.evolutions.INFO] seed question generated: What is the purpose of the certification provided by Timothy D. Cook in the quarterly report on Form 10-Q of Apple Inc.?\n",
            "[ragas.testset.filters.DEBUG] filtered question: {'feedback': \"The question asks about the impact of risk materialization on a company's stock price, which is a clear and specific inquiry. It does not rely on external references and can be understood independently. However, it could benefit from a bit more specificity regarding the types of risks being referred to (e.g., financial, operational, market risks) to enhance clarity and focus. Additionally, specifying whether the question seeks a general explanation or a detailed analysis could further refine the intent.\", 'verdict': 1}\n",
            "[ragas.testset.evolutions.DEBUG] [MultiContextEvolution] simple question generated: \"How can the materialization of risks affect the Company's stock price?\"\n",
            "[ragas.testset.filters.DEBUG] filtered question: {'feedback': \"The question asks about the impact of new product introductions on Apple's net sales and operating expenses. It is specific in its focus on Apple and the financial metrics of net sales and operating expenses, making the intent clear. However, the question could benefit from additional context regarding the time frame or specific products being referred to, as the impact may vary significantly based on these factors. To improve clarity and answerability, the question could specify whether it is asking about a particular product launch, a range of products, or a specific time period (e.g., the last fiscal year).\", 'verdict': 1}\n",
            "[ragas.testset.evolutions.DEBUG] [MultiContextEvolution] simple question generated: \"How do new product introductions impact Apple's net sales and operating expenses?\"\n",
            "[ragas.testset.evolutions.DEBUG] [MultiContextEvolution] multicontext question generated: \"How does the realization of risks impact the Company's stock value in terms of business, reputation, and financial standing?\"\n",
            "[ragas.testset.filters.DEBUG] filtered question: {'feedback': 'The question asks about the purpose of a certification provided by Timothy D. Cook in a specific document (the quarterly report on Form 10-Q of Apple Inc.). While it specifies the individual and the document in question, it assumes familiarity with the content and context of the Form 10-Q and the nature of the certification without providing any details. This could lead to ambiguity for those who may not have access to or knowledge of the specific report. To improve clarity and answerability, the question could briefly describe what the certification typically entails or its significance in the context of corporate reporting, making it easier for a broader audience to understand and respond.', 'verdict': 0}\n",
            "[ragas.testset.evolutions.INFO] rewritten question: What is the purpose of the certification provided by Timothy D. Cook in the quarterly report on Form 10-Q of Apple Inc.?\n",
            "[ragas.testset.evolutions.DEBUG] [MultiContextEvolution] multicontext question generated: \"How do new product introductions affect Apple's financial performance in terms of net sales and operating expenses?\"\n",
            "[ragas.testset.filters.DEBUG] filtered question: {'feedback': \"The question asks about the impact of risk realization on a company's stock value, specifically in relation to business, reputation, and financial standing. It is clear in its intent and specifies the areas of impact, making it understandable. However, the phrasing 'realization of risks' could be more precise; it might be beneficial to clarify what types of risks are being referred to (e.g., operational, market, reputational) to enhance clarity. Additionally, the question could specify whether it seeks a general overview or specific examples, which would further improve its answerability.\", 'verdict': 1}\n",
            "[ragas.testset.evolutions.DEBUG] [MultiContextEvolution] multicontext question compressed: \"How does risk realization affect the Company's stock value?\"\n",
            "[ragas.testset.filters.DEBUG] filtered question: {'feedback': \"The question is specific and clear, asking about the impact of new product introductions on Apple's financial performance, specifically focusing on net sales and operating expenses. It does not rely on external references or context, making it independent and understandable. The intent is clear, as it seeks to explore the relationship between product introductions and financial metrics. Therefore, it meets the criteria for clarity and answerability.\", 'verdict': 1}\n",
            "[ragas.testset.filters.DEBUG] filtered question: {'feedback': \"The question asks about the purpose of a certification provided by Timothy D. Cook in a specific document (the quarterly report on Form 10-Q of Apple Inc.). It is clear in its intent to understand the role or significance of this certification. However, it assumes familiarity with the specific document and the context of the certification without providing any details about what the certification entails or its typical implications. To improve clarity and answerability, the question could briefly describe what the certification usually covers or its relevance in the context of corporate governance or financial reporting. This would help those unfamiliar with the specifics of Form 10-Q or Timothy D. Cook's role to better understand the question.\", 'verdict': 0}\n",
            "[ragas.testset.evolutions.INFO] retrying evolution: 5 times\n",
            "[ragas.testset.evolutions.DEBUG] [MultiContextEvolution] multicontext question compressed: \"How do new products impact Apple's finances?\"\n",
            "[ragas.testset.filters.DEBUG] evolution filter: {'reason': 'Both questions inquire about the impact of risk materialization on the financial metrics of a company, specifically its stock price or value. They share the same constraints and depth of inquiry.', 'verdict': 1}\n",
            "[ragas.testset.evolutions.INFO] retrying evolution: 1 times\n",
            "[ragas.testset.filters.DEBUG] context scoring: {'clarity': 2, 'depth': 2, 'structure': 3, 'relevance': 3, 'score': 2.5}\n",
            "[ragas.testset.evolutions.DEBUG] keyphrases in merged node: ['Apple Inc.', 'Form 10-Q', 'Financial Statements', \"Management's Discussion and Analysis\", 'Market Risk']\n",
            "[ragas.testset.filters.DEBUG] context scoring: {'clarity': 3, 'depth': 3, 'structure': 3, 'relevance': 3, 'score': 3.0}\n",
            "[ragas.testset.evolutions.DEBUG] keyphrases in merged node: ['Earnings Per Share', 'Net income', 'Weighted-average shares', 'Diluted earnings per share', 'Financial Instruments']\n",
            "[ragas.testset.filters.DEBUG] evolution filter: {'reason': 'The first question specifically focuses on the impact of new product introductions on net sales and operating expenses, while the second question broadly addresses the impact on finances without specifying which financial aspects are considered. This leads to differences in depth and breadth of inquiry.', 'verdict': 0}\n",
            "[ragas.testset.evolutions.INFO] seed question generated: What is included in Apple Inc.'s Form 10-Q under \"Management's Discussion and Analysis of Financial Condition and Results of Operations\"?\n",
            "[ragas.testset.evolutions.INFO] seed question generated: \"How is diluted earnings per share calculated and what factors are considered in the computation?\"\n",
            "[ragas.testset.filters.DEBUG] filtered question: {'feedback': 'The question clearly asks for the calculation method of diluted earnings per share and the factors involved in its computation. It is specific and independent, as it does not rely on external references or additional context to be understood. The intent is clear, seeking both a formula and an explanation of contributing factors. Therefore, it meets the criteria for clarity and answerability.', 'verdict': 1}\n",
            "[ragas.testset.evolutions.DEBUG] [MultiContextEvolution] simple question generated: \"How is diluted earnings per share calculated and what factors are considered in the computation?\"\n",
            "[ragas.testset.filters.DEBUG] filtered question: {'feedback': 'The question asks specifically about the contents of Apple Inc.\\'s Form 10-Q, focusing on a particular section titled \"Management\\'s Discussion and Analysis of Financial Condition and Results of Operations.\" It is clear in its intent to seek information about this specific part of the financial document. However, the question assumes familiarity with the structure and content of a Form 10-Q, which may not be universally understood. To improve clarity and answerability, the question could briefly define what a Form 10-Q is or provide context about its significance in financial reporting. This would help those unfamiliar with the document to better understand the question\\'s focus.', 'verdict': 1}\n",
            "[ragas.testset.evolutions.DEBUG] [MultiContextEvolution] multicontext question generated: \"What factors influence the calculation of diluted earnings per share and why were certain stock units excluded from the computation?\"\n",
            "[ragas.testset.evolutions.DEBUG] answer generated: {'answer': \"New product and service introductions can significantly impact Apple's net sales, cost of sales, and operating expenses. The timing of product introductions can also affect Apple's net sales to its indirect distribution channels, as these channels are filled with new inventory following a product launch, and channel inventory of an older product often declines as the launch of a newer product approaches. Net sales can also be affected when consumers and distributors anticipate a product introduction.\", 'verdict': 1}\n",
            "Generating:  60%|██████    | 3/5 [00:29<00:22, 11.36s/it][ragas.testset.filters.DEBUG] filtered question: {'feedback': 'The question asks about the factors that influence the calculation of diluted earnings per share and the reasoning behind the exclusion of certain stock units from this computation. It is specific in its intent, clearly seeking information on two related aspects: the influencing factors and the rationale for exclusions. However, the question could be improved by specifying what types of stock units are being referred to or providing context on the specific scenario or company in question. This would enhance clarity and make it more answerable for those who may not have immediate knowledge of the specific case being referenced.', 'verdict': 1}\n",
            "[ragas.testset.evolutions.DEBUG] answer generated: {'answer': \"The Form 10-Q for Apple Inc. includes 'Management’s Discussion and Analysis of Financial Condition and Results of Operations' which provides insights into the company's financial performance and overall condition during the specified fiscal quarter.\", 'verdict': 1}\n",
            "Generating:  80%|████████  | 4/5 [00:30<00:07,  7.18s/it][ragas.testset.evolutions.DEBUG] [MultiContextEvolution] multicontext question compressed: \"What factors affect diluted EPS and why exclude some stock units?\"\n",
            "[ragas.testset.filters.DEBUG] evolution filter: {'reason': 'Both questions inquire about diluted earnings per share (EPS) and the factors involved in its calculation. However, the first question explicitly asks for the calculation method, while the second focuses on the factors affecting EPS and the rationale for excluding certain stock units, indicating a difference in depth and breadth of inquiry.', 'verdict': 0}\n",
            "[ragas.testset.evolutions.DEBUG] answer generated: {'answer': 'Diluted earnings per share (EPS) is affected by the inclusion of potential dilutive securities, such as stock options or convertible bonds, which could reduce EPS. Some stock units, like restricted stock units (RSUs), are excluded from the computation of diluted EPS if their effect would be antidilutive, meaning they would increase EPS rather than decrease it.', 'verdict': 1}\n",
            "Generating: 100%|██████████| 5/5 [00:33<00:00,  6.73s/it]\n"
          ]
        }
      ],
      "source": [
        "testset = generator.generate_with_langchain_docs(documents, 5, distributions, with_debugging_logs=True)"
      ]
    },
    {
      "cell_type": "markdown",
      "metadata": {
        "id": "sotAk8RR5Ayi"
      },
      "source": [
        "#### 🏗️ Activity #1:\n",
        "\n",
        "Using the dubgging logs above - trace through a single example of an evolution.\n",
        "\n",
        "Mark which LLM (Generator, or Critic) was responsible for each step."
      ]
    },
    {
      "cell_type": "code",
      "execution_count": 11,
      "metadata": {
        "colab": {
          "base_uri": "https://localhost:8080/",
          "height": 926
        },
        "id": "mOUdh4bUp63p",
        "outputId": "35d04edd-631f-4ae8-fcf3-cf90e039cbc6"
      },
      "outputs": [
        {
          "data": {
            "text/html": [
              "<div>\n",
              "<style scoped>\n",
              "    .dataframe tbody tr th:only-of-type {\n",
              "        vertical-align: middle;\n",
              "    }\n",
              "\n",
              "    .dataframe tbody tr th {\n",
              "        vertical-align: top;\n",
              "    }\n",
              "\n",
              "    .dataframe thead th {\n",
              "        text-align: right;\n",
              "    }\n",
              "</style>\n",
              "<table border=\"1\" class=\"dataframe\">\n",
              "  <thead>\n",
              "    <tr style=\"text-align: right;\">\n",
              "      <th></th>\n",
              "      <th>question</th>\n",
              "      <th>contexts</th>\n",
              "      <th>ground_truth</th>\n",
              "      <th>evolution_type</th>\n",
              "      <th>metadata</th>\n",
              "      <th>episode_done</th>\n",
              "    </tr>\n",
              "  </thead>\n",
              "  <tbody>\n",
              "    <tr>\n",
              "      <th>0</th>\n",
              "      <td>Who is the Senior Vice President and Chief Fin...</td>\n",
              "      <td>[SIGNATURE\\nPursuant to the requirements of th...</td>\n",
              "      <td>Luca Maestri is the Senior Vice President and ...</td>\n",
              "      <td>simple</td>\n",
              "      <td>[{'source': 'https://s2.q4cdn.com/470004039/fi...</td>\n",
              "      <td>True</td>\n",
              "    </tr>\n",
              "    <tr>\n",
              "      <th>1</th>\n",
              "      <td>What is included in Apple Inc.'s Form 10-Q und...</td>\n",
              "      <td>[Apple Inc.\\nForm 10-Q\\nFor the Fiscal Quarter...</td>\n",
              "      <td>The Form 10-Q for Apple Inc. includes 'Managem...</td>\n",
              "      <td>simple</td>\n",
              "      <td>[{'source': 'https://s2.q4cdn.com/470004039/fi...</td>\n",
              "      <td>True</td>\n",
              "    </tr>\n",
              "    <tr>\n",
              "      <th>2</th>\n",
              "      <td>Who is the current CFO at Apple Inc. as of Aug...</td>\n",
              "      <td>[SIGNATURE\\nPursuant to the requirements of th...</td>\n",
              "      <td>Luca Maestri is the Senior Vice President and ...</td>\n",
              "      <td>multi_context</td>\n",
              "      <td>[{'source': 'https://s2.q4cdn.com/470004039/fi...</td>\n",
              "      <td>True</td>\n",
              "    </tr>\n",
              "    <tr>\n",
              "      <th>3</th>\n",
              "      <td>How do new products impact Apple's finances?</td>\n",
              "      <td>[Item 2. \\nManagement’s Discussion and Analysi...</td>\n",
              "      <td>New product and service introductions can sign...</td>\n",
              "      <td>multi_context</td>\n",
              "      <td>[{'source': 'https://s2.q4cdn.com/470004039/fi...</td>\n",
              "      <td>True</td>\n",
              "    </tr>\n",
              "    <tr>\n",
              "      <th>4</th>\n",
              "      <td>What factors affect diluted EPS and why exclud...</td>\n",
              "      <td>[Note 3 – Earnings Per Share\\nThe following ta...</td>\n",
              "      <td>Diluted earnings per share (EPS) is affected b...</td>\n",
              "      <td>multi_context</td>\n",
              "      <td>[{'source': 'https://s2.q4cdn.com/470004039/fi...</td>\n",
              "      <td>True</td>\n",
              "    </tr>\n",
              "  </tbody>\n",
              "</table>\n",
              "</div>"
            ],
            "text/plain": [
              "                                            question  \\\n",
              "0  Who is the Senior Vice President and Chief Fin...   \n",
              "1  What is included in Apple Inc.'s Form 10-Q und...   \n",
              "2  Who is the current CFO at Apple Inc. as of Aug...   \n",
              "3       How do new products impact Apple's finances?   \n",
              "4  What factors affect diluted EPS and why exclud...   \n",
              "\n",
              "                                            contexts  \\\n",
              "0  [SIGNATURE\\nPursuant to the requirements of th...   \n",
              "1  [Apple Inc.\\nForm 10-Q\\nFor the Fiscal Quarter...   \n",
              "2  [SIGNATURE\\nPursuant to the requirements of th...   \n",
              "3  [Item 2. \\nManagement’s Discussion and Analysi...   \n",
              "4  [Note 3 – Earnings Per Share\\nThe following ta...   \n",
              "\n",
              "                                        ground_truth evolution_type  \\\n",
              "0  Luca Maestri is the Senior Vice President and ...         simple   \n",
              "1  The Form 10-Q for Apple Inc. includes 'Managem...         simple   \n",
              "2  Luca Maestri is the Senior Vice President and ...  multi_context   \n",
              "3  New product and service introductions can sign...  multi_context   \n",
              "4  Diluted earnings per share (EPS) is affected b...  multi_context   \n",
              "\n",
              "                                            metadata  episode_done  \n",
              "0  [{'source': 'https://s2.q4cdn.com/470004039/fi...          True  \n",
              "1  [{'source': 'https://s2.q4cdn.com/470004039/fi...          True  \n",
              "2  [{'source': 'https://s2.q4cdn.com/470004039/fi...          True  \n",
              "3  [{'source': 'https://s2.q4cdn.com/470004039/fi...          True  \n",
              "4  [{'source': 'https://s2.q4cdn.com/470004039/fi...          True  "
            ]
          },
          "execution_count": 11,
          "metadata": {},
          "output_type": "execute_result"
        }
      ],
      "source": [
        "testset.to_pandas()"
      ]
    },
    {
      "cell_type": "markdown",
      "metadata": {
        "id": "vLDUsLJg43k7"
      },
      "source": [
        "# 🤝 BREAKOUT ROOM #2"
      ]
    },
    {
      "cell_type": "markdown",
      "metadata": {
        "id": "8SLtk1GtnyoY"
      },
      "source": [
        "## Task 4: LangSmith Dataset\n",
        "\n",
        "Now we can move on to creating a dataset for LangSmith!\n",
        "\n",
        "First, we'll need to create a dataset on LangSmith using the `Client`!\n",
        "\n",
        "We'll name our Dataset to make it easy to work with later."
      ]
    },
    {
      "cell_type": "code",
      "execution_count": 12,
      "metadata": {
        "id": "TLgm6OjvYSsm"
      },
      "outputs": [],
      "source": [
        "from langsmith import Client\n",
        "\n",
        "client = Client()\n",
        "\n",
        "dataset_name = \"Apple 10-Q Filing Questions - v3\"\n",
        "\n",
        "dataset = client.create_dataset(\n",
        "    dataset_name=dataset_name,\n",
        "    description=\"Questions about Apple's 10-Q Filing\"\n",
        ")"
      ]
    },
    {
      "cell_type": "markdown",
      "metadata": {
        "id": "64SmXMBnzXWm"
      },
      "source": [
        "We'll iterate through the RAGAS created dataframe - and add each example to our created dataset!\n",
        "\n",
        "> NOTE: We need to conform the outputs to the expected format - which in this case is: `question` and `answer`."
      ]
    },
    {
      "cell_type": "code",
      "execution_count": 13,
      "metadata": {
        "id": "8nFQ6di_XnY7"
      },
      "outputs": [],
      "source": [
        "for test in testset.to_pandas().iterrows():\n",
        "  client.create_example(\n",
        "      inputs={\n",
        "          \"question\": test[1][\"question\"]\n",
        "      },\n",
        "      outputs={\n",
        "          \"answer\": test[1][\"ground_truth\"]\n",
        "      },\n",
        "      metadata={\n",
        "          \"context\": test[0]\n",
        "      },\n",
        "      dataset_id=dataset.id\n",
        "  )"
      ]
    },
    {
      "cell_type": "markdown",
      "metadata": {
        "id": "o6EbQVyZq-2j"
      },
      "source": [
        "## Basic RAG Chain\n",
        "\n",
        "Time for some RAG!\n",
        "\n",
        "We'll use the Apple 10-Q filing as our data source today!\n"
      ]
    },
    {
      "cell_type": "code",
      "execution_count": 14,
      "metadata": {
        "id": "4njbUAIsaYjB"
      },
      "outputs": [],
      "source": [
        "rag_documents = PyMuPDFLoader(file_path=\"https://s2.q4cdn.com/470004039/files/doc_earnings/2024/q3/filing/_10-Q-Q3-2024-As-Filed.pdf\").load()"
      ]
    },
    {
      "cell_type": "markdown",
      "metadata": {
        "id": "bQorBy8H1AZR"
      },
      "source": [
        "To keep things simple, we'll just use LangChain's recursive character text splitter!\n"
      ]
    },
    {
      "cell_type": "code",
      "execution_count": 15,
      "metadata": {
        "id": "qWo3Ajaragv1"
      },
      "outputs": [],
      "source": [
        "from langchain.text_splitter import RecursiveCharacterTextSplitter\n",
        "\n",
        "text_splitter = RecursiveCharacterTextSplitter(\n",
        "    chunk_size = 500,\n",
        "    chunk_overlap = 50\n",
        ")\n",
        "\n",
        "rag_documents = text_splitter.split_documents(rag_documents)"
      ]
    },
    {
      "cell_type": "markdown",
      "metadata": {
        "id": "kghuTb9R01oO"
      },
      "source": [
        "We'll create our vectorstore using OpenAI's [`text-embedding-3-small`](https://platform.openai.com/docs/guides/embeddings/embedding-models) embedding model."
      ]
    },
    {
      "cell_type": "code",
      "execution_count": 16,
      "metadata": {
        "id": "UwfJCzP3aqKI"
      },
      "outputs": [],
      "source": [
        "from langchain_openai import OpenAIEmbeddings\n",
        "\n",
        "embeddings = OpenAIEmbeddings(model=\"text-embedding-3-small\")"
      ]
    },
    {
      "cell_type": "markdown",
      "metadata": {
        "id": "QpCLS-a01Ft2"
      },
      "source": [
        "As usual, we will power our RAG application with Qdrant!"
      ]
    },
    {
      "cell_type": "code",
      "execution_count": 17,
      "metadata": {
        "id": "58Ypj_NgbEsi"
      },
      "outputs": [],
      "source": [
        "from langchain_community.vectorstores import Qdrant\n",
        "\n",
        "vectorstore = Qdrant.from_documents(\n",
        "    documents=rag_documents,\n",
        "    embedding=embeddings,\n",
        "    location=\":memory:\",\n",
        "    collection_name=\"Apple 10-Q\"\n",
        ")"
      ]
    },
    {
      "cell_type": "code",
      "execution_count": 18,
      "metadata": {
        "id": "SbKSjfSkbTYo"
      },
      "outputs": [],
      "source": [
        "retriever = vectorstore.as_retriever()"
      ]
    },
    {
      "cell_type": "markdown",
      "metadata": {
        "id": "WxUOMaQX1K2N"
      },
      "source": [
        "To get the \"A\" in RAG, we'll provide a prompt."
      ]
    },
    {
      "cell_type": "code",
      "execution_count": 19,
      "metadata": {
        "id": "1sLeY1oWbVqO"
      },
      "outputs": [],
      "source": [
        "from langchain.prompts import ChatPromptTemplate\n",
        "\n",
        "RAG_PROMPT = \"\"\"\\\n",
        "Given a provided context and question, you must answer the question based only on context.\n",
        "\n",
        "If you cannot answer the question based on the context - you must say \"I don't know\".\n",
        "\n",
        "Context: {context}\n",
        "Question: {question}\n",
        "\"\"\"\n",
        "\n",
        "rag_prompt = ChatPromptTemplate.from_template(RAG_PROMPT)"
      ]
    },
    {
      "cell_type": "markdown",
      "metadata": {
        "id": "PZnHDh4e1Ou5"
      },
      "source": [
        "For our LLM, we will be using TogetherAI's endpoints as well!\n",
        "\n",
        "We're going to be using Meta Llama 3.1 70B Instruct Turbo - a powerful model which should get us powerful results!"
      ]
    },
    {
      "cell_type": "code",
      "execution_count": 20,
      "metadata": {
        "id": "6nx-ue1XbciV"
      },
      "outputs": [],
      "source": [
        "from langchain_openai import ChatOpenAI\n",
        "\n",
        "llm = ChatOpenAI(model=\"gpt-4o-mini\")"
      ]
    },
    {
      "cell_type": "markdown",
      "metadata": {
        "id": "jmTL6-pc1ZGz"
      },
      "source": [
        "Finally, we can set-up our RAG LCEL chain!"
      ]
    },
    {
      "cell_type": "code",
      "execution_count": 21,
      "metadata": {
        "id": "TjWj0OLIbbFc"
      },
      "outputs": [],
      "source": [
        "from operator import itemgetter\n",
        "from langchain_core.runnables import RunnablePassthrough, RunnableParallel\n",
        "from langchain.schema import StrOutputParser\n",
        "\n",
        "rag_chain = (\n",
        "    {\"context\": itemgetter(\"question\") | retriever, \"question\": itemgetter(\"question\")}\n",
        "    | rag_prompt | llm | StrOutputParser()\n",
        ")"
      ]
    },
    {
      "cell_type": "code",
      "execution_count": 22,
      "metadata": {
        "colab": {
          "base_uri": "https://localhost:8080/",
          "height": 35
        },
        "id": "WQ7bEweo4IIb",
        "outputId": "d161b269-f799-4920-d6ce-c202f6e783aa"
      },
      "outputs": [
        {
          "data": {
            "text/plain": [
              "\"I don't know.\""
            ]
          },
          "execution_count": 22,
          "metadata": {},
          "output_type": "execute_result"
        }
      ],
      "source": [
        "rag_chain.invoke({\"question\" : \"Does Apple seem to be in good financial health?\"})"
      ]
    },
    {
      "cell_type": "markdown",
      "metadata": {
        "id": "D9hBh5YPrdGJ"
      },
      "source": [
        "## LangSmith Evaluation Set-up\n",
        "\n",
        "We'll use OpenAI's GPT-4o as our evaluation LLM for our base Evaluators."
      ]
    },
    {
      "cell_type": "code",
      "execution_count": 23,
      "metadata": {
        "id": "gfwPYdIkcvpF"
      },
      "outputs": [],
      "source": [
        "eval_llm = ChatOpenAI(model=\"gpt-4o\")"
      ]
    },
    {
      "cell_type": "markdown",
      "metadata": {
        "id": "6b8pToKH2K28"
      },
      "source": [
        "We'll be using a number of evaluators - from LangSmith provided evaluators, to a few custom evaluators!"
      ]
    },
    {
      "cell_type": "code",
      "execution_count": 24,
      "metadata": {
        "id": "PXSG-_ajckp6"
      },
      "outputs": [],
      "source": [
        "from langsmith.evaluation import LangChainStringEvaluator, evaluate\n",
        "\n",
        "qa_evaluator = LangChainStringEvaluator(\"qa\", config={\"llm\" : eval_llm})\n",
        "\n",
        "labeled_helpfulness_evaluator = LangChainStringEvaluator(\n",
        "    \"labeled_criteria\",\n",
        "    config={\n",
        "        \"criteria\": {\n",
        "            \"helpfulness\": (\n",
        "                \"Is this submission helpful to the user,\"\n",
        "                \" taking into account the correct reference answer?\"\n",
        "            )\n",
        "        }\n",
        "    },\n",
        "    prepare_data=lambda run, example: {\n",
        "        \"prediction\": run.outputs[\"output\"],\n",
        "        \"reference\": example.outputs[\"answer\"],\n",
        "        \"input\": example.inputs[\"question\"],\n",
        "    }\n",
        ")\n",
        "\n",
        "dope_or_nope_evaluator = LangChainStringEvaluator(\n",
        "    \"criteria\",\n",
        "    config={\n",
        "        \"criteria\": {\n",
        "            \"dopeness\": \"Is this submission dope, lit, or cool?\",\n",
        "        }\n",
        "    }\n",
        ")"
      ]
    },
    {
      "cell_type": "markdown",
      "metadata": {
        "id": "z0SQP_FoCetP"
      },
      "source": [
        "#### 🏗️ Activity #2:\n",
        "\n",
        "Highlight what each evaluator is evaluating.\n",
        "\n",
        "- `qa_evaluator`:\n",
        "- `labeled_helpfulness_evaluator`:\n",
        "- `dope_or_nope_evaluator`:"
      ]
    },
    {
      "cell_type": "markdown",
      "metadata": {
        "id": "R35sQMHVrnpl"
      },
      "source": [
        "## LangSmith Evaluation"
      ]
    },
    {
      "cell_type": "code",
      "execution_count": 25,
      "metadata": {
        "colab": {
          "base_uri": "https://localhost:8080/",
          "height": 136,
          "referenced_widgets": [
            "122b1bd1f0e9417a8dcb57d4eebe4d2e",
            "e0c233ad01604540a6c873f4a731982d",
            "e9a01115c75b499884f7e0ef32e9e599",
            "5faba4ad609448b2b49024add4ad3b8e",
            "ef25efa751304e4699910f1fbc14345f",
            "0b44cb0f8e34446c8dde668a75d3d8ad",
            "edaac6587b2d4bd5be52b89bb097f99f",
            "7cb241365f604419af454c1c28de197a",
            "9cf586576ff44dba86ba2eb389593c61",
            "849b5c95008541d49f1ceedf0a59ac60",
            "f3665a86662746c4ac7cb0796604781d"
          ]
        },
        "id": "t7t_Uz0tdumL",
        "outputId": "d684e218-294e-4dc3-c8de-a01d397f021c"
      },
      "outputs": [
        {
          "name": "stdout",
          "output_type": "stream",
          "text": [
            "View the evaluation results for experiment: 'frosty-part-38' at:\n",
            "https://smith.langchain.com/o/4338cd48-b435-5ef7-a0a2-2783f35f7872/datasets/689a19b5-61ec-4637-afd2-a2fc6809551a/compare?selectedSessions=e2c3d652-4f51-48fe-9dd8-ae031ddaf860\n",
            "\n",
            "\n"
          ]
        },
        {
          "name": "stderr",
          "output_type": "stream",
          "text": [
            "5it [00:26,  5.27s/it]\n"
          ]
        },
        {
          "data": {
            "text/plain": [
              "<ExperimentResults frosty-part-38>"
            ]
          },
          "execution_count": 25,
          "metadata": {},
          "output_type": "execute_result"
        }
      ],
      "source": [
        "evaluate(\n",
        "    rag_chain.invoke,\n",
        "    data=dataset_name,\n",
        "    evaluators=[\n",
        "        qa_evaluator,\n",
        "        labeled_helpfulness_evaluator,\n",
        "        dope_or_nope_evaluator\n",
        "    ],\n",
        "    metadata={\"revision_id\": \"default_chain\"},\n",
        ")"
      ]
    },
    {
      "cell_type": "markdown",
      "metadata": {
        "id": "Nq7fCVinrpI4"
      },
      "source": [
        "## Dope-ifying Our Application\n",
        "\n",
        "We'll be making a few changes to our RAG chain to increase its performance on our SDG evaluation test dataset!\n",
        "\n",
        "- Include a \"dope\" prompt augmentation\n",
        "- Use larger chunks\n",
        "- Improve the retriever model to: `text-embedding-3-large`\n",
        "\n",
        "Let's see how this changes our evaluation!"
      ]
    },
    {
      "cell_type": "code",
      "execution_count": 26,
      "metadata": {
        "id": "z56pXwyUgFUt"
      },
      "outputs": [],
      "source": [
        "DOPE_RAG_PROMPT = \"\"\"\\\n",
        "Given a provided context and question, you must answer the question based only on context.\n",
        "\n",
        "If you cannot answer the question based on the context - you must say \"I don't know\".\n",
        "\n",
        "You must answer the questions in a dope way, be cool!\n",
        "\n",
        "Context: {context}\n",
        "Question: {question}\n",
        "\"\"\"\n",
        "\n",
        "dope_rag_prompt = ChatPromptTemplate.from_template(DOPE_RAG_PROMPT)"
      ]
    },
    {
      "cell_type": "code",
      "execution_count": 27,
      "metadata": {
        "id": "rZLcTstJgfv5"
      },
      "outputs": [],
      "source": [
        "rag_documents = PyMuPDFLoader(file_path=\"https://s2.q4cdn.com/470004039/files/doc_earnings/2024/q3/filing/_10-Q-Q3-2024-As-Filed.pdf\").load()"
      ]
    },
    {
      "cell_type": "code",
      "execution_count": 28,
      "metadata": {
        "id": "-LYsyirngj6n"
      },
      "outputs": [],
      "source": [
        "from langchain.text_splitter import RecursiveCharacterTextSplitter\n",
        "\n",
        "text_splitter = RecursiveCharacterTextSplitter(\n",
        "    chunk_size = 1000,\n",
        "    chunk_overlap = 50\n",
        ")\n",
        "\n",
        "rag_documents = text_splitter.split_documents(rag_documents)"
      ]
    },
    {
      "cell_type": "markdown",
      "metadata": {
        "id": "spldiPuTCzDO"
      },
      "source": [
        "#### ❓Question #2:\n",
        "\n",
        "Why would modifying our chunk size modify the performance of our application?"
      ]
    },
    {
      "cell_type": "code",
      "execution_count": 29,
      "metadata": {
        "id": "b9MI2Bm2go1r"
      },
      "outputs": [],
      "source": [
        "from langchain_openai import OpenAIEmbeddings\n",
        "\n",
        "embeddings = OpenAIEmbeddings(model=\"text-embedding-3-large\")"
      ]
    },
    {
      "cell_type": "markdown",
      "metadata": {
        "id": "UBbjG6cKC8BQ"
      },
      "source": [
        "#### ❓Question #3:\n",
        "\n",
        "Why would modifying our embedding model modify the performance of our application?"
      ]
    },
    {
      "cell_type": "code",
      "execution_count": 30,
      "metadata": {
        "id": "hVUY25FKgxXx"
      },
      "outputs": [],
      "source": [
        "vectorstore = Qdrant.from_documents(\n",
        "    documents=rag_documents,\n",
        "    embedding=embeddings,\n",
        "    location=\":memory:\",\n",
        "    collection_name=\"Apple 10-Q (Augmented)\"\n",
        ")"
      ]
    },
    {
      "cell_type": "code",
      "execution_count": 31,
      "metadata": {
        "id": "Q4TOZNYIg2v1"
      },
      "outputs": [],
      "source": [
        "retriever = vectorstore.as_retriever()"
      ]
    },
    {
      "cell_type": "markdown",
      "metadata": {
        "id": "SqYGFrnKDB91"
      },
      "source": [
        "Setting up our new and improved DOPE RAG CHAIN."
      ]
    },
    {
      "cell_type": "code",
      "execution_count": 32,
      "metadata": {
        "id": "HqnTqeXMhAdx"
      },
      "outputs": [],
      "source": [
        "dope_rag_chain = (\n",
        "    {\"context\": itemgetter(\"question\") | retriever, \"question\": itemgetter(\"question\")}\n",
        "    | dope_rag_prompt | llm | StrOutputParser()\n",
        ")"
      ]
    },
    {
      "cell_type": "markdown",
      "metadata": {
        "id": "21pTxoqJDI1Y"
      },
      "source": [
        "Let's test it on the same output that we saw before."
      ]
    },
    {
      "cell_type": "code",
      "execution_count": 33,
      "metadata": {
        "colab": {
          "base_uri": "https://localhost:8080/",
          "height": 70
        },
        "id": "OfZZ3MoN3fKv",
        "outputId": "d65722dd-92c2-4e4e-9cca-c42ee6f3f208"
      },
      "outputs": [
        {
          "data": {
            "text/plain": [
              "'Yo, judging by the context, Apple’s got some solid vibes going on! Their total assets are sitting at $331,612 million, down from $352,583 million, but they still generated a net income of $79,000 million for the nine months ended June 29, 2024, which is a nice rise from the previous year. Plus, their gross margin is looking tight at $136,804 million. So yeah, while they’ve had some dips, they’re still flexing some serious financial muscle. Apple’s in pretty good shape! 🍏💰'"
            ]
          },
          "execution_count": 33,
          "metadata": {},
          "output_type": "execute_result"
        }
      ],
      "source": [
        "dope_rag_chain.invoke({\"question\" : \"Does Apple seem to be in good financial health?\"})"
      ]
    },
    {
      "cell_type": "markdown",
      "metadata": {
        "id": "lpj7v1inDLnQ"
      },
      "source": [
        "Finally, we can evaluate the new chain on the same test set!"
      ]
    },
    {
      "cell_type": "code",
      "execution_count": 34,
      "metadata": {
        "colab": {
          "base_uri": "https://localhost:8080/",
          "height": 136,
          "referenced_widgets": [
            "bf8dcc0895054529af356da401c513f6",
            "7dce19ac55264f2b88a0e4730e55867b",
            "2a0755d4476543feb4a64538e3e37213",
            "158212a630f04cbd884c937f2f60f5c8",
            "11c7f66acc1d45be9517d0addf49331e",
            "ddffd834e09940a4bd3874c3f39b4e21",
            "ef63c3b2d51e452da03cdae5d9b034be",
            "c20b539cd70b4ba99601ad1d69fd9cec",
            "a6d681eeafa44d18b933a4c5dec88382",
            "d1d54ccd56494c4d831f71b416a1f880",
            "530f696feefe499da08c6312047379b2"
          ]
        },
        "id": "Dx11S2b-hIM8",
        "outputId": "d3a3ea78-aa32-4bd2-8c2a-d0d0303695c1"
      },
      "outputs": [
        {
          "name": "stdout",
          "output_type": "stream",
          "text": [
            "View the evaluation results for experiment: 'roasted-lift-100' at:\n",
            "https://smith.langchain.com/o/4338cd48-b435-5ef7-a0a2-2783f35f7872/datasets/689a19b5-61ec-4637-afd2-a2fc6809551a/compare?selectedSessions=cf41b9bb-e9bb-4759-a87b-79e53ba7a127\n",
            "\n",
            "\n"
          ]
        },
        {
          "name": "stderr",
          "output_type": "stream",
          "text": [
            "5it [00:26,  5.33s/it]\n"
          ]
        },
        {
          "data": {
            "text/plain": [
              "<ExperimentResults roasted-lift-100>"
            ]
          },
          "execution_count": 34,
          "metadata": {},
          "output_type": "execute_result"
        }
      ],
      "source": [
        "evaluate(\n",
        "    dope_rag_chain.invoke,\n",
        "    data=dataset_name,\n",
        "    evaluators=[\n",
        "        qa_evaluator,\n",
        "        labeled_helpfulness_evaluator,\n",
        "        dope_or_nope_evaluator\n",
        "    ],\n",
        "    metadata={\"revision_id\": \"dope_chain\"},\n",
        ")"
      ]
    },
    {
      "cell_type": "markdown",
      "metadata": {
        "id": "3C7migvlDPZT"
      },
      "source": [
        "#### 🏗️ Activity #3:\n",
        "\n",
        "Provide a screenshot of the difference between the two chains, and explain why you believe certain metrics changed in certain ways."
      ]
    }
  ],
  "metadata": {
    "colab": {
      "provenance": [],
      "toc_visible": true
    },
    "kernelspec": {
      "display_name": "Python 3",
      "name": "python3"
    },
    "language_info": {
      "codemirror_mode": {
        "name": "ipython",
        "version": 3
      },
      "file_extension": ".py",
      "mimetype": "text/x-python",
      "name": "python",
      "nbconvert_exporter": "python",
      "pygments_lexer": "ipython3",
      "version": "3.12.4"
    },
    "widgets": {
      "application/vnd.jupyter.widget-state+json": {
        "07ab3dc0790241bbb85a7f488a42ef8c": {
          "model_module": "@jupyter-widgets/controls",
          "model_module_version": "1.5.0",
          "model_name": "HBoxModel",
          "state": {
            "_dom_classes": [],
            "_model_module": "@jupyter-widgets/controls",
            "_model_module_version": "1.5.0",
            "_model_name": "HBoxModel",
            "_view_count": null,
            "_view_module": "@jupyter-widgets/controls",
            "_view_module_version": "1.5.0",
            "_view_name": "HBoxView",
            "box_style": "",
            "children": [
              "IPY_MODEL_7710c7377cbc4c30b55b28b4bc99e88f",
              "IPY_MODEL_41bdd49fab5f4826959d0d50663ff539",
              "IPY_MODEL_60168d85131d4afc99d55d61ab954ee6"
            ],
            "layout": "IPY_MODEL_9edf898aeeab40dda9b9475395776521"
          }
        },
        "095f680d37a3430fb82d223615662db5": {
          "model_module": "@jupyter-widgets/controls",
          "model_module_version": "1.5.0",
          "model_name": "ProgressStyleModel",
          "state": {
            "_model_module": "@jupyter-widgets/controls",
            "_model_module_version": "1.5.0",
            "_model_name": "ProgressStyleModel",
            "_view_count": null,
            "_view_module": "@jupyter-widgets/base",
            "_view_module_version": "1.2.0",
            "_view_name": "StyleView",
            "bar_color": null,
            "description_width": ""
          }
        },
        "0b44cb0f8e34446c8dde668a75d3d8ad": {
          "model_module": "@jupyter-widgets/base",
          "model_module_version": "1.2.0",
          "model_name": "LayoutModel",
          "state": {
            "_model_module": "@jupyter-widgets/base",
            "_model_module_version": "1.2.0",
            "_model_name": "LayoutModel",
            "_view_count": null,
            "_view_module": "@jupyter-widgets/base",
            "_view_module_version": "1.2.0",
            "_view_name": "LayoutView",
            "align_content": null,
            "align_items": null,
            "align_self": null,
            "border": null,
            "bottom": null,
            "display": null,
            "flex": null,
            "flex_flow": null,
            "grid_area": null,
            "grid_auto_columns": null,
            "grid_auto_flow": null,
            "grid_auto_rows": null,
            "grid_column": null,
            "grid_gap": null,
            "grid_row": null,
            "grid_template_areas": null,
            "grid_template_columns": null,
            "grid_template_rows": null,
            "height": null,
            "justify_content": null,
            "justify_items": null,
            "left": null,
            "margin": null,
            "max_height": null,
            "max_width": null,
            "min_height": null,
            "min_width": null,
            "object_fit": null,
            "object_position": null,
            "order": null,
            "overflow": null,
            "overflow_x": null,
            "overflow_y": null,
            "padding": null,
            "right": null,
            "top": null,
            "visibility": null,
            "width": null
          }
        },
        "10df31709059484c99f102453d780473": {
          "model_module": "@jupyter-widgets/base",
          "model_module_version": "1.2.0",
          "model_name": "LayoutModel",
          "state": {
            "_model_module": "@jupyter-widgets/base",
            "_model_module_version": "1.2.0",
            "_model_name": "LayoutModel",
            "_view_count": null,
            "_view_module": "@jupyter-widgets/base",
            "_view_module_version": "1.2.0",
            "_view_name": "LayoutView",
            "align_content": null,
            "align_items": null,
            "align_self": null,
            "border": null,
            "bottom": null,
            "display": null,
            "flex": null,
            "flex_flow": null,
            "grid_area": null,
            "grid_auto_columns": null,
            "grid_auto_flow": null,
            "grid_auto_rows": null,
            "grid_column": null,
            "grid_gap": null,
            "grid_row": null,
            "grid_template_areas": null,
            "grid_template_columns": null,
            "grid_template_rows": null,
            "height": null,
            "justify_content": null,
            "justify_items": null,
            "left": null,
            "margin": null,
            "max_height": null,
            "max_width": null,
            "min_height": null,
            "min_width": null,
            "object_fit": null,
            "object_position": null,
            "order": null,
            "overflow": null,
            "overflow_x": null,
            "overflow_y": null,
            "padding": null,
            "right": null,
            "top": null,
            "visibility": null,
            "width": null
          }
        },
        "1160a44dc18e47b0890f70c40eaa7eb0": {
          "model_module": "@jupyter-widgets/controls",
          "model_module_version": "1.5.0",
          "model_name": "DescriptionStyleModel",
          "state": {
            "_model_module": "@jupyter-widgets/controls",
            "_model_module_version": "1.5.0",
            "_model_name": "DescriptionStyleModel",
            "_view_count": null,
            "_view_module": "@jupyter-widgets/base",
            "_view_module_version": "1.2.0",
            "_view_name": "StyleView",
            "description_width": ""
          }
        },
        "11c7f66acc1d45be9517d0addf49331e": {
          "model_module": "@jupyter-widgets/base",
          "model_module_version": "1.2.0",
          "model_name": "LayoutModel",
          "state": {
            "_model_module": "@jupyter-widgets/base",
            "_model_module_version": "1.2.0",
            "_model_name": "LayoutModel",
            "_view_count": null,
            "_view_module": "@jupyter-widgets/base",
            "_view_module_version": "1.2.0",
            "_view_name": "LayoutView",
            "align_content": null,
            "align_items": null,
            "align_self": null,
            "border": null,
            "bottom": null,
            "display": null,
            "flex": null,
            "flex_flow": null,
            "grid_area": null,
            "grid_auto_columns": null,
            "grid_auto_flow": null,
            "grid_auto_rows": null,
            "grid_column": null,
            "grid_gap": null,
            "grid_row": null,
            "grid_template_areas": null,
            "grid_template_columns": null,
            "grid_template_rows": null,
            "height": null,
            "justify_content": null,
            "justify_items": null,
            "left": null,
            "margin": null,
            "max_height": null,
            "max_width": null,
            "min_height": null,
            "min_width": null,
            "object_fit": null,
            "object_position": null,
            "order": null,
            "overflow": null,
            "overflow_x": null,
            "overflow_y": null,
            "padding": null,
            "right": null,
            "top": null,
            "visibility": null,
            "width": null
          }
        },
        "122b1bd1f0e9417a8dcb57d4eebe4d2e": {
          "model_module": "@jupyter-widgets/controls",
          "model_module_version": "1.5.0",
          "model_name": "HBoxModel",
          "state": {
            "_dom_classes": [],
            "_model_module": "@jupyter-widgets/controls",
            "_model_module_version": "1.5.0",
            "_model_name": "HBoxModel",
            "_view_count": null,
            "_view_module": "@jupyter-widgets/controls",
            "_view_module_version": "1.5.0",
            "_view_name": "HBoxView",
            "box_style": "",
            "children": [
              "IPY_MODEL_e0c233ad01604540a6c873f4a731982d",
              "IPY_MODEL_e9a01115c75b499884f7e0ef32e9e599",
              "IPY_MODEL_5faba4ad609448b2b49024add4ad3b8e"
            ],
            "layout": "IPY_MODEL_ef25efa751304e4699910f1fbc14345f"
          }
        },
        "158212a630f04cbd884c937f2f60f5c8": {
          "model_module": "@jupyter-widgets/controls",
          "model_module_version": "1.5.0",
          "model_name": "HTMLModel",
          "state": {
            "_dom_classes": [],
            "_model_module": "@jupyter-widgets/controls",
            "_model_module_version": "1.5.0",
            "_model_name": "HTMLModel",
            "_view_count": null,
            "_view_module": "@jupyter-widgets/controls",
            "_view_module_version": "1.5.0",
            "_view_name": "HTMLView",
            "description": "",
            "description_tooltip": null,
            "layout": "IPY_MODEL_d1d54ccd56494c4d831f71b416a1f880",
            "placeholder": "​",
            "style": "IPY_MODEL_530f696feefe499da08c6312047379b2",
            "value": " 20/? [01:43&lt;00:00,  5.25s/it]"
          }
        },
        "23863bc37a8645029934b8c106622c51": {
          "model_module": "@jupyter-widgets/base",
          "model_module_version": "1.2.0",
          "model_name": "LayoutModel",
          "state": {
            "_model_module": "@jupyter-widgets/base",
            "_model_module_version": "1.2.0",
            "_model_name": "LayoutModel",
            "_view_count": null,
            "_view_module": "@jupyter-widgets/base",
            "_view_module_version": "1.2.0",
            "_view_name": "LayoutView",
            "align_content": null,
            "align_items": null,
            "align_self": null,
            "border": null,
            "bottom": null,
            "display": null,
            "flex": null,
            "flex_flow": null,
            "grid_area": null,
            "grid_auto_columns": null,
            "grid_auto_flow": null,
            "grid_auto_rows": null,
            "grid_column": null,
            "grid_gap": null,
            "grid_row": null,
            "grid_template_areas": null,
            "grid_template_columns": null,
            "grid_template_rows": null,
            "height": null,
            "justify_content": null,
            "justify_items": null,
            "left": null,
            "margin": null,
            "max_height": null,
            "max_width": null,
            "min_height": null,
            "min_width": null,
            "object_fit": null,
            "object_position": null,
            "order": null,
            "overflow": null,
            "overflow_x": null,
            "overflow_y": null,
            "padding": null,
            "right": null,
            "top": null,
            "visibility": null,
            "width": null
          }
        },
        "2508d229935744cbb5fc340222e2d660": {
          "model_module": "@jupyter-widgets/controls",
          "model_module_version": "1.5.0",
          "model_name": "DescriptionStyleModel",
          "state": {
            "_model_module": "@jupyter-widgets/controls",
            "_model_module_version": "1.5.0",
            "_model_name": "DescriptionStyleModel",
            "_view_count": null,
            "_view_module": "@jupyter-widgets/base",
            "_view_module_version": "1.2.0",
            "_view_name": "StyleView",
            "description_width": ""
          }
        },
        "2a0755d4476543feb4a64538e3e37213": {
          "model_module": "@jupyter-widgets/controls",
          "model_module_version": "1.5.0",
          "model_name": "FloatProgressModel",
          "state": {
            "_dom_classes": [],
            "_model_module": "@jupyter-widgets/controls",
            "_model_module_version": "1.5.0",
            "_model_name": "FloatProgressModel",
            "_view_count": null,
            "_view_module": "@jupyter-widgets/controls",
            "_view_module_version": "1.5.0",
            "_view_name": "ProgressView",
            "bar_style": "success",
            "description": "",
            "description_tooltip": null,
            "layout": "IPY_MODEL_c20b539cd70b4ba99601ad1d69fd9cec",
            "max": 1,
            "min": 0,
            "orientation": "horizontal",
            "style": "IPY_MODEL_a6d681eeafa44d18b933a4c5dec88382",
            "value": 1
          }
        },
        "33f063017b7c4c7fa8cbafc89674350b": {
          "model_module": "@jupyter-widgets/controls",
          "model_module_version": "1.5.0",
          "model_name": "HBoxModel",
          "state": {
            "_dom_classes": [],
            "_model_module": "@jupyter-widgets/controls",
            "_model_module_version": "1.5.0",
            "_model_name": "HBoxModel",
            "_view_count": null,
            "_view_module": "@jupyter-widgets/controls",
            "_view_module_version": "1.5.0",
            "_view_name": "HBoxView",
            "box_style": "",
            "children": [
              "IPY_MODEL_6864c81e2bcf459bbaf5acbb36bdfcbe",
              "IPY_MODEL_59d6e269eadf429a924f6f79bc8ba4ba",
              "IPY_MODEL_ca791fc471e34b9da2f9070fc1053c0f"
            ],
            "layout": "IPY_MODEL_8baf0ed3d0f743f294e07f2b5407e820"
          }
        },
        "3a8537e37fc14fd9b16ca0ceee4fede6": {
          "model_module": "@jupyter-widgets/base",
          "model_module_version": "1.2.0",
          "model_name": "LayoutModel",
          "state": {
            "_model_module": "@jupyter-widgets/base",
            "_model_module_version": "1.2.0",
            "_model_name": "LayoutModel",
            "_view_count": null,
            "_view_module": "@jupyter-widgets/base",
            "_view_module_version": "1.2.0",
            "_view_name": "LayoutView",
            "align_content": null,
            "align_items": null,
            "align_self": null,
            "border": null,
            "bottom": null,
            "display": null,
            "flex": null,
            "flex_flow": null,
            "grid_area": null,
            "grid_auto_columns": null,
            "grid_auto_flow": null,
            "grid_auto_rows": null,
            "grid_column": null,
            "grid_gap": null,
            "grid_row": null,
            "grid_template_areas": null,
            "grid_template_columns": null,
            "grid_template_rows": null,
            "height": null,
            "justify_content": null,
            "justify_items": null,
            "left": null,
            "margin": null,
            "max_height": null,
            "max_width": null,
            "min_height": null,
            "min_width": null,
            "object_fit": null,
            "object_position": null,
            "order": null,
            "overflow": null,
            "overflow_x": null,
            "overflow_y": null,
            "padding": null,
            "right": null,
            "top": null,
            "visibility": null,
            "width": null
          }
        },
        "41bdd49fab5f4826959d0d50663ff539": {
          "model_module": "@jupyter-widgets/controls",
          "model_module_version": "1.5.0",
          "model_name": "FloatProgressModel",
          "state": {
            "_dom_classes": [],
            "_model_module": "@jupyter-widgets/controls",
            "_model_module_version": "1.5.0",
            "_model_name": "FloatProgressModel",
            "_view_count": null,
            "_view_module": "@jupyter-widgets/controls",
            "_view_module_version": "1.5.0",
            "_view_name": "ProgressView",
            "bar_style": "",
            "description": "",
            "description_tooltip": null,
            "layout": "IPY_MODEL_6eb8b2e3262c45248708a2082c366f0a",
            "max": 64,
            "min": 0,
            "orientation": "horizontal",
            "style": "IPY_MODEL_095f680d37a3430fb82d223615662db5",
            "value": 64
          }
        },
        "530f696feefe499da08c6312047379b2": {
          "model_module": "@jupyter-widgets/controls",
          "model_module_version": "1.5.0",
          "model_name": "DescriptionStyleModel",
          "state": {
            "_model_module": "@jupyter-widgets/controls",
            "_model_module_version": "1.5.0",
            "_model_name": "DescriptionStyleModel",
            "_view_count": null,
            "_view_module": "@jupyter-widgets/base",
            "_view_module_version": "1.2.0",
            "_view_name": "StyleView",
            "description_width": ""
          }
        },
        "59d6e269eadf429a924f6f79bc8ba4ba": {
          "model_module": "@jupyter-widgets/controls",
          "model_module_version": "1.5.0",
          "model_name": "FloatProgressModel",
          "state": {
            "_dom_classes": [],
            "_model_module": "@jupyter-widgets/controls",
            "_model_module_version": "1.5.0",
            "_model_name": "FloatProgressModel",
            "_view_count": null,
            "_view_module": "@jupyter-widgets/controls",
            "_view_module_version": "1.5.0",
            "_view_name": "ProgressView",
            "bar_style": "success",
            "description": "",
            "description_tooltip": null,
            "layout": "IPY_MODEL_890e0dd7fa524ceca1e805cb6253ee71",
            "max": 20,
            "min": 0,
            "orientation": "horizontal",
            "style": "IPY_MODEL_61b52ff459214129b8f7e6d67b192b78",
            "value": 20
          }
        },
        "5ab5f08afa5841709aedb2f78a52a11c": {
          "model_module": "@jupyter-widgets/controls",
          "model_module_version": "1.5.0",
          "model_name": "DescriptionStyleModel",
          "state": {
            "_model_module": "@jupyter-widgets/controls",
            "_model_module_version": "1.5.0",
            "_model_name": "DescriptionStyleModel",
            "_view_count": null,
            "_view_module": "@jupyter-widgets/base",
            "_view_module_version": "1.2.0",
            "_view_name": "StyleView",
            "description_width": ""
          }
        },
        "5c2fda99d4204d85b1bf7ad354fd58d4": {
          "model_module": "@jupyter-widgets/base",
          "model_module_version": "1.2.0",
          "model_name": "LayoutModel",
          "state": {
            "_model_module": "@jupyter-widgets/base",
            "_model_module_version": "1.2.0",
            "_model_name": "LayoutModel",
            "_view_count": null,
            "_view_module": "@jupyter-widgets/base",
            "_view_module_version": "1.2.0",
            "_view_name": "LayoutView",
            "align_content": null,
            "align_items": null,
            "align_self": null,
            "border": null,
            "bottom": null,
            "display": null,
            "flex": null,
            "flex_flow": null,
            "grid_area": null,
            "grid_auto_columns": null,
            "grid_auto_flow": null,
            "grid_auto_rows": null,
            "grid_column": null,
            "grid_gap": null,
            "grid_row": null,
            "grid_template_areas": null,
            "grid_template_columns": null,
            "grid_template_rows": null,
            "height": null,
            "justify_content": null,
            "justify_items": null,
            "left": null,
            "margin": null,
            "max_height": null,
            "max_width": null,
            "min_height": null,
            "min_width": null,
            "object_fit": null,
            "object_position": null,
            "order": null,
            "overflow": null,
            "overflow_x": null,
            "overflow_y": null,
            "padding": null,
            "right": null,
            "top": null,
            "visibility": null,
            "width": null
          }
        },
        "5faba4ad609448b2b49024add4ad3b8e": {
          "model_module": "@jupyter-widgets/controls",
          "model_module_version": "1.5.0",
          "model_name": "HTMLModel",
          "state": {
            "_dom_classes": [],
            "_model_module": "@jupyter-widgets/controls",
            "_model_module_version": "1.5.0",
            "_model_name": "HTMLModel",
            "_view_count": null,
            "_view_module": "@jupyter-widgets/controls",
            "_view_module_version": "1.5.0",
            "_view_name": "HTMLView",
            "description": "",
            "description_tooltip": null,
            "layout": "IPY_MODEL_849b5c95008541d49f1ceedf0a59ac60",
            "placeholder": "​",
            "style": "IPY_MODEL_f3665a86662746c4ac7cb0796604781d",
            "value": " 20/? [01:27&lt;00:00,  6.45s/it]"
          }
        },
        "60168d85131d4afc99d55d61ab954ee6": {
          "model_module": "@jupyter-widgets/controls",
          "model_module_version": "1.5.0",
          "model_name": "HTMLModel",
          "state": {
            "_dom_classes": [],
            "_model_module": "@jupyter-widgets/controls",
            "_model_module_version": "1.5.0",
            "_model_name": "HTMLModel",
            "_view_count": null,
            "_view_module": "@jupyter-widgets/controls",
            "_view_module_version": "1.5.0",
            "_view_name": "HTMLView",
            "description": "",
            "description_tooltip": null,
            "layout": "IPY_MODEL_3a8537e37fc14fd9b16ca0ceee4fede6",
            "placeholder": "​",
            "style": "IPY_MODEL_1160a44dc18e47b0890f70c40eaa7eb0",
            "value": " 61/64 [00:02&lt;00:00, 23.36it/s]"
          }
        },
        "61b52ff459214129b8f7e6d67b192b78": {
          "model_module": "@jupyter-widgets/controls",
          "model_module_version": "1.5.0",
          "model_name": "ProgressStyleModel",
          "state": {
            "_model_module": "@jupyter-widgets/controls",
            "_model_module_version": "1.5.0",
            "_model_name": "ProgressStyleModel",
            "_view_count": null,
            "_view_module": "@jupyter-widgets/base",
            "_view_module_version": "1.2.0",
            "_view_name": "StyleView",
            "bar_color": null,
            "description_width": ""
          }
        },
        "6864c81e2bcf459bbaf5acbb36bdfcbe": {
          "model_module": "@jupyter-widgets/controls",
          "model_module_version": "1.5.0",
          "model_name": "HTMLModel",
          "state": {
            "_dom_classes": [],
            "_model_module": "@jupyter-widgets/controls",
            "_model_module_version": "1.5.0",
            "_model_name": "HTMLModel",
            "_view_count": null,
            "_view_module": "@jupyter-widgets/controls",
            "_view_module_version": "1.5.0",
            "_view_name": "HTMLView",
            "description": "",
            "description_tooltip": null,
            "layout": "IPY_MODEL_10df31709059484c99f102453d780473",
            "placeholder": "​",
            "style": "IPY_MODEL_2508d229935744cbb5fc340222e2d660",
            "value": "Generating: 100%"
          }
        },
        "6eb8b2e3262c45248708a2082c366f0a": {
          "model_module": "@jupyter-widgets/base",
          "model_module_version": "1.2.0",
          "model_name": "LayoutModel",
          "state": {
            "_model_module": "@jupyter-widgets/base",
            "_model_module_version": "1.2.0",
            "_model_name": "LayoutModel",
            "_view_count": null,
            "_view_module": "@jupyter-widgets/base",
            "_view_module_version": "1.2.0",
            "_view_name": "LayoutView",
            "align_content": null,
            "align_items": null,
            "align_self": null,
            "border": null,
            "bottom": null,
            "display": null,
            "flex": null,
            "flex_flow": null,
            "grid_area": null,
            "grid_auto_columns": null,
            "grid_auto_flow": null,
            "grid_auto_rows": null,
            "grid_column": null,
            "grid_gap": null,
            "grid_row": null,
            "grid_template_areas": null,
            "grid_template_columns": null,
            "grid_template_rows": null,
            "height": null,
            "justify_content": null,
            "justify_items": null,
            "left": null,
            "margin": null,
            "max_height": null,
            "max_width": null,
            "min_height": null,
            "min_width": null,
            "object_fit": null,
            "object_position": null,
            "order": null,
            "overflow": null,
            "overflow_x": null,
            "overflow_y": null,
            "padding": null,
            "right": null,
            "top": null,
            "visibility": null,
            "width": null
          }
        },
        "7710c7377cbc4c30b55b28b4bc99e88f": {
          "model_module": "@jupyter-widgets/controls",
          "model_module_version": "1.5.0",
          "model_name": "HTMLModel",
          "state": {
            "_dom_classes": [],
            "_model_module": "@jupyter-widgets/controls",
            "_model_module_version": "1.5.0",
            "_model_name": "HTMLModel",
            "_view_count": null,
            "_view_module": "@jupyter-widgets/controls",
            "_view_module_version": "1.5.0",
            "_view_name": "HTMLView",
            "description": "",
            "description_tooltip": null,
            "layout": "IPY_MODEL_5c2fda99d4204d85b1bf7ad354fd58d4",
            "placeholder": "​",
            "style": "IPY_MODEL_93cd4d35c5fd41f5904ca1d52d1f52a8",
            "value": "embedding nodes:  95%"
          }
        },
        "7cb241365f604419af454c1c28de197a": {
          "model_module": "@jupyter-widgets/base",
          "model_module_version": "1.2.0",
          "model_name": "LayoutModel",
          "state": {
            "_model_module": "@jupyter-widgets/base",
            "_model_module_version": "1.2.0",
            "_model_name": "LayoutModel",
            "_view_count": null,
            "_view_module": "@jupyter-widgets/base",
            "_view_module_version": "1.2.0",
            "_view_name": "LayoutView",
            "align_content": null,
            "align_items": null,
            "align_self": null,
            "border": null,
            "bottom": null,
            "display": null,
            "flex": null,
            "flex_flow": null,
            "grid_area": null,
            "grid_auto_columns": null,
            "grid_auto_flow": null,
            "grid_auto_rows": null,
            "grid_column": null,
            "grid_gap": null,
            "grid_row": null,
            "grid_template_areas": null,
            "grid_template_columns": null,
            "grid_template_rows": null,
            "height": null,
            "justify_content": null,
            "justify_items": null,
            "left": null,
            "margin": null,
            "max_height": null,
            "max_width": null,
            "min_height": null,
            "min_width": null,
            "object_fit": null,
            "object_position": null,
            "order": null,
            "overflow": null,
            "overflow_x": null,
            "overflow_y": null,
            "padding": null,
            "right": null,
            "top": null,
            "visibility": null,
            "width": "20px"
          }
        },
        "7dce19ac55264f2b88a0e4730e55867b": {
          "model_module": "@jupyter-widgets/controls",
          "model_module_version": "1.5.0",
          "model_name": "HTMLModel",
          "state": {
            "_dom_classes": [],
            "_model_module": "@jupyter-widgets/controls",
            "_model_module_version": "1.5.0",
            "_model_name": "HTMLModel",
            "_view_count": null,
            "_view_module": "@jupyter-widgets/controls",
            "_view_module_version": "1.5.0",
            "_view_name": "HTMLView",
            "description": "",
            "description_tooltip": null,
            "layout": "IPY_MODEL_ddffd834e09940a4bd3874c3f39b4e21",
            "placeholder": "​",
            "style": "IPY_MODEL_ef63c3b2d51e452da03cdae5d9b034be",
            "value": ""
          }
        },
        "849b5c95008541d49f1ceedf0a59ac60": {
          "model_module": "@jupyter-widgets/base",
          "model_module_version": "1.2.0",
          "model_name": "LayoutModel",
          "state": {
            "_model_module": "@jupyter-widgets/base",
            "_model_module_version": "1.2.0",
            "_model_name": "LayoutModel",
            "_view_count": null,
            "_view_module": "@jupyter-widgets/base",
            "_view_module_version": "1.2.0",
            "_view_name": "LayoutView",
            "align_content": null,
            "align_items": null,
            "align_self": null,
            "border": null,
            "bottom": null,
            "display": null,
            "flex": null,
            "flex_flow": null,
            "grid_area": null,
            "grid_auto_columns": null,
            "grid_auto_flow": null,
            "grid_auto_rows": null,
            "grid_column": null,
            "grid_gap": null,
            "grid_row": null,
            "grid_template_areas": null,
            "grid_template_columns": null,
            "grid_template_rows": null,
            "height": null,
            "justify_content": null,
            "justify_items": null,
            "left": null,
            "margin": null,
            "max_height": null,
            "max_width": null,
            "min_height": null,
            "min_width": null,
            "object_fit": null,
            "object_position": null,
            "order": null,
            "overflow": null,
            "overflow_x": null,
            "overflow_y": null,
            "padding": null,
            "right": null,
            "top": null,
            "visibility": null,
            "width": null
          }
        },
        "890e0dd7fa524ceca1e805cb6253ee71": {
          "model_module": "@jupyter-widgets/base",
          "model_module_version": "1.2.0",
          "model_name": "LayoutModel",
          "state": {
            "_model_module": "@jupyter-widgets/base",
            "_model_module_version": "1.2.0",
            "_model_name": "LayoutModel",
            "_view_count": null,
            "_view_module": "@jupyter-widgets/base",
            "_view_module_version": "1.2.0",
            "_view_name": "LayoutView",
            "align_content": null,
            "align_items": null,
            "align_self": null,
            "border": null,
            "bottom": null,
            "display": null,
            "flex": null,
            "flex_flow": null,
            "grid_area": null,
            "grid_auto_columns": null,
            "grid_auto_flow": null,
            "grid_auto_rows": null,
            "grid_column": null,
            "grid_gap": null,
            "grid_row": null,
            "grid_template_areas": null,
            "grid_template_columns": null,
            "grid_template_rows": null,
            "height": null,
            "justify_content": null,
            "justify_items": null,
            "left": null,
            "margin": null,
            "max_height": null,
            "max_width": null,
            "min_height": null,
            "min_width": null,
            "object_fit": null,
            "object_position": null,
            "order": null,
            "overflow": null,
            "overflow_x": null,
            "overflow_y": null,
            "padding": null,
            "right": null,
            "top": null,
            "visibility": null,
            "width": null
          }
        },
        "8baf0ed3d0f743f294e07f2b5407e820": {
          "model_module": "@jupyter-widgets/base",
          "model_module_version": "1.2.0",
          "model_name": "LayoutModel",
          "state": {
            "_model_module": "@jupyter-widgets/base",
            "_model_module_version": "1.2.0",
            "_model_name": "LayoutModel",
            "_view_count": null,
            "_view_module": "@jupyter-widgets/base",
            "_view_module_version": "1.2.0",
            "_view_name": "LayoutView",
            "align_content": null,
            "align_items": null,
            "align_self": null,
            "border": null,
            "bottom": null,
            "display": null,
            "flex": null,
            "flex_flow": null,
            "grid_area": null,
            "grid_auto_columns": null,
            "grid_auto_flow": null,
            "grid_auto_rows": null,
            "grid_column": null,
            "grid_gap": null,
            "grid_row": null,
            "grid_template_areas": null,
            "grid_template_columns": null,
            "grid_template_rows": null,
            "height": null,
            "justify_content": null,
            "justify_items": null,
            "left": null,
            "margin": null,
            "max_height": null,
            "max_width": null,
            "min_height": null,
            "min_width": null,
            "object_fit": null,
            "object_position": null,
            "order": null,
            "overflow": null,
            "overflow_x": null,
            "overflow_y": null,
            "padding": null,
            "right": null,
            "top": null,
            "visibility": null,
            "width": null
          }
        },
        "93cd4d35c5fd41f5904ca1d52d1f52a8": {
          "model_module": "@jupyter-widgets/controls",
          "model_module_version": "1.5.0",
          "model_name": "DescriptionStyleModel",
          "state": {
            "_model_module": "@jupyter-widgets/controls",
            "_model_module_version": "1.5.0",
            "_model_name": "DescriptionStyleModel",
            "_view_count": null,
            "_view_module": "@jupyter-widgets/base",
            "_view_module_version": "1.2.0",
            "_view_name": "StyleView",
            "description_width": ""
          }
        },
        "9cf586576ff44dba86ba2eb389593c61": {
          "model_module": "@jupyter-widgets/controls",
          "model_module_version": "1.5.0",
          "model_name": "ProgressStyleModel",
          "state": {
            "_model_module": "@jupyter-widgets/controls",
            "_model_module_version": "1.5.0",
            "_model_name": "ProgressStyleModel",
            "_view_count": null,
            "_view_module": "@jupyter-widgets/base",
            "_view_module_version": "1.2.0",
            "_view_name": "StyleView",
            "bar_color": null,
            "description_width": ""
          }
        },
        "9edf898aeeab40dda9b9475395776521": {
          "model_module": "@jupyter-widgets/base",
          "model_module_version": "1.2.0",
          "model_name": "LayoutModel",
          "state": {
            "_model_module": "@jupyter-widgets/base",
            "_model_module_version": "1.2.0",
            "_model_name": "LayoutModel",
            "_view_count": null,
            "_view_module": "@jupyter-widgets/base",
            "_view_module_version": "1.2.0",
            "_view_name": "LayoutView",
            "align_content": null,
            "align_items": null,
            "align_self": null,
            "border": null,
            "bottom": null,
            "display": null,
            "flex": null,
            "flex_flow": null,
            "grid_area": null,
            "grid_auto_columns": null,
            "grid_auto_flow": null,
            "grid_auto_rows": null,
            "grid_column": null,
            "grid_gap": null,
            "grid_row": null,
            "grid_template_areas": null,
            "grid_template_columns": null,
            "grid_template_rows": null,
            "height": null,
            "justify_content": null,
            "justify_items": null,
            "left": null,
            "margin": null,
            "max_height": null,
            "max_width": null,
            "min_height": null,
            "min_width": null,
            "object_fit": null,
            "object_position": null,
            "order": null,
            "overflow": null,
            "overflow_x": null,
            "overflow_y": null,
            "padding": null,
            "right": null,
            "top": null,
            "visibility": "hidden",
            "width": null
          }
        },
        "a6d681eeafa44d18b933a4c5dec88382": {
          "model_module": "@jupyter-widgets/controls",
          "model_module_version": "1.5.0",
          "model_name": "ProgressStyleModel",
          "state": {
            "_model_module": "@jupyter-widgets/controls",
            "_model_module_version": "1.5.0",
            "_model_name": "ProgressStyleModel",
            "_view_count": null,
            "_view_module": "@jupyter-widgets/base",
            "_view_module_version": "1.2.0",
            "_view_name": "StyleView",
            "bar_color": null,
            "description_width": ""
          }
        },
        "bf8dcc0895054529af356da401c513f6": {
          "model_module": "@jupyter-widgets/controls",
          "model_module_version": "1.5.0",
          "model_name": "HBoxModel",
          "state": {
            "_dom_classes": [],
            "_model_module": "@jupyter-widgets/controls",
            "_model_module_version": "1.5.0",
            "_model_name": "HBoxModel",
            "_view_count": null,
            "_view_module": "@jupyter-widgets/controls",
            "_view_module_version": "1.5.0",
            "_view_name": "HBoxView",
            "box_style": "",
            "children": [
              "IPY_MODEL_7dce19ac55264f2b88a0e4730e55867b",
              "IPY_MODEL_2a0755d4476543feb4a64538e3e37213",
              "IPY_MODEL_158212a630f04cbd884c937f2f60f5c8"
            ],
            "layout": "IPY_MODEL_11c7f66acc1d45be9517d0addf49331e"
          }
        },
        "c20b539cd70b4ba99601ad1d69fd9cec": {
          "model_module": "@jupyter-widgets/base",
          "model_module_version": "1.2.0",
          "model_name": "LayoutModel",
          "state": {
            "_model_module": "@jupyter-widgets/base",
            "_model_module_version": "1.2.0",
            "_model_name": "LayoutModel",
            "_view_count": null,
            "_view_module": "@jupyter-widgets/base",
            "_view_module_version": "1.2.0",
            "_view_name": "LayoutView",
            "align_content": null,
            "align_items": null,
            "align_self": null,
            "border": null,
            "bottom": null,
            "display": null,
            "flex": null,
            "flex_flow": null,
            "grid_area": null,
            "grid_auto_columns": null,
            "grid_auto_flow": null,
            "grid_auto_rows": null,
            "grid_column": null,
            "grid_gap": null,
            "grid_row": null,
            "grid_template_areas": null,
            "grid_template_columns": null,
            "grid_template_rows": null,
            "height": null,
            "justify_content": null,
            "justify_items": null,
            "left": null,
            "margin": null,
            "max_height": null,
            "max_width": null,
            "min_height": null,
            "min_width": null,
            "object_fit": null,
            "object_position": null,
            "order": null,
            "overflow": null,
            "overflow_x": null,
            "overflow_y": null,
            "padding": null,
            "right": null,
            "top": null,
            "visibility": null,
            "width": "20px"
          }
        },
        "ca791fc471e34b9da2f9070fc1053c0f": {
          "model_module": "@jupyter-widgets/controls",
          "model_module_version": "1.5.0",
          "model_name": "HTMLModel",
          "state": {
            "_dom_classes": [],
            "_model_module": "@jupyter-widgets/controls",
            "_model_module_version": "1.5.0",
            "_model_name": "HTMLModel",
            "_view_count": null,
            "_view_module": "@jupyter-widgets/controls",
            "_view_module_version": "1.5.0",
            "_view_name": "HTMLView",
            "description": "",
            "description_tooltip": null,
            "layout": "IPY_MODEL_23863bc37a8645029934b8c106622c51",
            "placeholder": "​",
            "style": "IPY_MODEL_5ab5f08afa5841709aedb2f78a52a11c",
            "value": " 20/20 [00:52&lt;00:00,  4.50s/it]"
          }
        },
        "d1d54ccd56494c4d831f71b416a1f880": {
          "model_module": "@jupyter-widgets/base",
          "model_module_version": "1.2.0",
          "model_name": "LayoutModel",
          "state": {
            "_model_module": "@jupyter-widgets/base",
            "_model_module_version": "1.2.0",
            "_model_name": "LayoutModel",
            "_view_count": null,
            "_view_module": "@jupyter-widgets/base",
            "_view_module_version": "1.2.0",
            "_view_name": "LayoutView",
            "align_content": null,
            "align_items": null,
            "align_self": null,
            "border": null,
            "bottom": null,
            "display": null,
            "flex": null,
            "flex_flow": null,
            "grid_area": null,
            "grid_auto_columns": null,
            "grid_auto_flow": null,
            "grid_auto_rows": null,
            "grid_column": null,
            "grid_gap": null,
            "grid_row": null,
            "grid_template_areas": null,
            "grid_template_columns": null,
            "grid_template_rows": null,
            "height": null,
            "justify_content": null,
            "justify_items": null,
            "left": null,
            "margin": null,
            "max_height": null,
            "max_width": null,
            "min_height": null,
            "min_width": null,
            "object_fit": null,
            "object_position": null,
            "order": null,
            "overflow": null,
            "overflow_x": null,
            "overflow_y": null,
            "padding": null,
            "right": null,
            "top": null,
            "visibility": null,
            "width": null
          }
        },
        "ddffd834e09940a4bd3874c3f39b4e21": {
          "model_module": "@jupyter-widgets/base",
          "model_module_version": "1.2.0",
          "model_name": "LayoutModel",
          "state": {
            "_model_module": "@jupyter-widgets/base",
            "_model_module_version": "1.2.0",
            "_model_name": "LayoutModel",
            "_view_count": null,
            "_view_module": "@jupyter-widgets/base",
            "_view_module_version": "1.2.0",
            "_view_name": "LayoutView",
            "align_content": null,
            "align_items": null,
            "align_self": null,
            "border": null,
            "bottom": null,
            "display": null,
            "flex": null,
            "flex_flow": null,
            "grid_area": null,
            "grid_auto_columns": null,
            "grid_auto_flow": null,
            "grid_auto_rows": null,
            "grid_column": null,
            "grid_gap": null,
            "grid_row": null,
            "grid_template_areas": null,
            "grid_template_columns": null,
            "grid_template_rows": null,
            "height": null,
            "justify_content": null,
            "justify_items": null,
            "left": null,
            "margin": null,
            "max_height": null,
            "max_width": null,
            "min_height": null,
            "min_width": null,
            "object_fit": null,
            "object_position": null,
            "order": null,
            "overflow": null,
            "overflow_x": null,
            "overflow_y": null,
            "padding": null,
            "right": null,
            "top": null,
            "visibility": null,
            "width": null
          }
        },
        "e0c233ad01604540a6c873f4a731982d": {
          "model_module": "@jupyter-widgets/controls",
          "model_module_version": "1.5.0",
          "model_name": "HTMLModel",
          "state": {
            "_dom_classes": [],
            "_model_module": "@jupyter-widgets/controls",
            "_model_module_version": "1.5.0",
            "_model_name": "HTMLModel",
            "_view_count": null,
            "_view_module": "@jupyter-widgets/controls",
            "_view_module_version": "1.5.0",
            "_view_name": "HTMLView",
            "description": "",
            "description_tooltip": null,
            "layout": "IPY_MODEL_0b44cb0f8e34446c8dde668a75d3d8ad",
            "placeholder": "​",
            "style": "IPY_MODEL_edaac6587b2d4bd5be52b89bb097f99f",
            "value": ""
          }
        },
        "e9a01115c75b499884f7e0ef32e9e599": {
          "model_module": "@jupyter-widgets/controls",
          "model_module_version": "1.5.0",
          "model_name": "FloatProgressModel",
          "state": {
            "_dom_classes": [],
            "_model_module": "@jupyter-widgets/controls",
            "_model_module_version": "1.5.0",
            "_model_name": "FloatProgressModel",
            "_view_count": null,
            "_view_module": "@jupyter-widgets/controls",
            "_view_module_version": "1.5.0",
            "_view_name": "ProgressView",
            "bar_style": "success",
            "description": "",
            "description_tooltip": null,
            "layout": "IPY_MODEL_7cb241365f604419af454c1c28de197a",
            "max": 1,
            "min": 0,
            "orientation": "horizontal",
            "style": "IPY_MODEL_9cf586576ff44dba86ba2eb389593c61",
            "value": 1
          }
        },
        "edaac6587b2d4bd5be52b89bb097f99f": {
          "model_module": "@jupyter-widgets/controls",
          "model_module_version": "1.5.0",
          "model_name": "DescriptionStyleModel",
          "state": {
            "_model_module": "@jupyter-widgets/controls",
            "_model_module_version": "1.5.0",
            "_model_name": "DescriptionStyleModel",
            "_view_count": null,
            "_view_module": "@jupyter-widgets/base",
            "_view_module_version": "1.2.0",
            "_view_name": "StyleView",
            "description_width": ""
          }
        },
        "ef25efa751304e4699910f1fbc14345f": {
          "model_module": "@jupyter-widgets/base",
          "model_module_version": "1.2.0",
          "model_name": "LayoutModel",
          "state": {
            "_model_module": "@jupyter-widgets/base",
            "_model_module_version": "1.2.0",
            "_model_name": "LayoutModel",
            "_view_count": null,
            "_view_module": "@jupyter-widgets/base",
            "_view_module_version": "1.2.0",
            "_view_name": "LayoutView",
            "align_content": null,
            "align_items": null,
            "align_self": null,
            "border": null,
            "bottom": null,
            "display": null,
            "flex": null,
            "flex_flow": null,
            "grid_area": null,
            "grid_auto_columns": null,
            "grid_auto_flow": null,
            "grid_auto_rows": null,
            "grid_column": null,
            "grid_gap": null,
            "grid_row": null,
            "grid_template_areas": null,
            "grid_template_columns": null,
            "grid_template_rows": null,
            "height": null,
            "justify_content": null,
            "justify_items": null,
            "left": null,
            "margin": null,
            "max_height": null,
            "max_width": null,
            "min_height": null,
            "min_width": null,
            "object_fit": null,
            "object_position": null,
            "order": null,
            "overflow": null,
            "overflow_x": null,
            "overflow_y": null,
            "padding": null,
            "right": null,
            "top": null,
            "visibility": null,
            "width": null
          }
        },
        "ef63c3b2d51e452da03cdae5d9b034be": {
          "model_module": "@jupyter-widgets/controls",
          "model_module_version": "1.5.0",
          "model_name": "DescriptionStyleModel",
          "state": {
            "_model_module": "@jupyter-widgets/controls",
            "_model_module_version": "1.5.0",
            "_model_name": "DescriptionStyleModel",
            "_view_count": null,
            "_view_module": "@jupyter-widgets/base",
            "_view_module_version": "1.2.0",
            "_view_name": "StyleView",
            "description_width": ""
          }
        },
        "f3665a86662746c4ac7cb0796604781d": {
          "model_module": "@jupyter-widgets/controls",
          "model_module_version": "1.5.0",
          "model_name": "DescriptionStyleModel",
          "state": {
            "_model_module": "@jupyter-widgets/controls",
            "_model_module_version": "1.5.0",
            "_model_name": "DescriptionStyleModel",
            "_view_count": null,
            "_view_module": "@jupyter-widgets/base",
            "_view_module_version": "1.2.0",
            "_view_name": "StyleView",
            "description_width": ""
          }
        }
      }
    }
  },
  "nbformat": 4,
  "nbformat_minor": 0
}
